{
 "cells": [
  {
   "cell_type": "code",
   "execution_count": 1,
   "metadata": {},
   "outputs": [],
   "source": [
    "from src.ocsvm.OneClassSVMClassifier import OneClassSVMClassifier\n",
    "from src.ocsvm.OneClassSVMClassifier import OneClassSVMModel \n",
    "import numpy as np\n",
    "import matplotlib.pyplot as plt\n",
    "import torch"
   ]
  },
  {
   "cell_type": "code",
   "execution_count": 2,
   "metadata": {},
   "outputs": [
    {
     "data": {
      "image/png": "[encoded data removed]",
      "text/plain": [
       "<Figure size 640x480 with 1 Axes>"
      ]
     },
     "metadata": {},
     "output_type": "display_data"
    }
   ],
   "source": [
    "def make_blob_dataset(n_samples, contamination=0.05, random_state=42):\n",
    "    rng = np.random.RandomState(random_state)\n",
    "    X_inliers = 0.3 * rng.normal(size=(int(n_samples * (1. - contamination)), 2)) + 2\n",
    "    X_outliers = rng.uniform(low=-1, high=5, size=(int(n_samples * contamination), 2))\n",
    "    X = np.concatenate((X_inliers, X_outliers), axis=0)\n",
    "    rng.shuffle(X)\n",
    "    return X\n",
    "\n",
    "X = make_blob_dataset(500)\n",
    "plt.scatter(X[:, 0], X[:, 1], color='b');"
   ]
  },
  {
   "cell_type": "code",
   "execution_count": 3,
   "metadata": {},
   "outputs": [],
   "source": [
    "ocsvm = OneClassSVMModel(nu=0.1, gamma=0.3)\n"
   ]
  },
  {
   "cell_type": "code",
   "execution_count": 4,
   "metadata": {},
   "outputs": [],
   "source": [
    "decision, y_pred = ocsvm.fit(X)"
   ]
  },
  {
   "cell_type": "code",
   "execution_count": 5,
   "metadata": {},
   "outputs": [
    {
     "data": {
      "text/plain": [
       "array([ 2.61754018e-02,  7.66308758e-03, -8.89232639e-03,  2.94009003e-02,\n",
       "        7.94768800e-03,  3.83000753e-02,  4.02913796e-03,  3.49452439e-02,\n",
       "        4.61929230e-02,  3.99488603e-02,  1.12218938e-02,  2.29438835e-02,\n",
       "       -1.35851435e-02,  3.54457457e-02,  2.76403985e-02,  3.42031305e-02,\n",
       "        4.26730950e-02,  1.61341073e-02,  3.75857843e-02,  3.94318619e-02,\n",
       "        4.65571270e-02,  3.63753810e-02,  7.22129424e-03,  4.23503837e-02,\n",
       "        3.43426723e-02,  3.57323286e-02,  4.59020807e-02,  3.74430358e-02,\n",
       "        4.37357081e-02,  4.14414972e-02,  3.92350928e-02,  4.43643943e-02,\n",
       "        3.06566879e-02,  4.53808917e-02,  4.39290649e-02,  4.15358721e-02,\n",
       "        2.18444984e-02,  3.74995514e-02, -1.55550367e-02, -1.23619812e-08,\n",
       "        6.93054283e-03,  3.72529058e-02,  4.44700412e-02,  3.63195397e-02,\n",
       "        3.21923595e-02,  2.85478342e-02,  1.08626439e-03,  2.54661515e-02,\n",
       "        2.87932922e-02,  4.47540412e-02,  3.77043315e-02,  1.34527193e-02,\n",
       "        4.51031281e-02,  4.00267875e-02,  4.17049570e-02, -3.87717595e-01,\n",
       "        7.21589974e-03,  1.88693836e-02,  3.88935234e-02,  2.59383970e-02,\n",
       "        1.96534370e-02,  4.03018852e-02,  4.33681123e-02,  4.43134659e-02,\n",
       "        3.73681316e-02, -3.26370501e-01,  4.13644014e-02,  4.17946143e-02,\n",
       "        4.34268985e-02,  3.60760767e-02,  4.40568936e-02,  4.30008301e-02,\n",
       "        3.95276334e-02,  1.97007947e-02,  2.01119427e-02,  1.72606172e-02,\n",
       "        4.40339672e-02, -1.97378822e-02,  2.34202588e-02,  3.48838155e-02,\n",
       "        3.53298317e-02,  4.61917922e-02,  4.66246512e-02, -2.43065384e-02,\n",
       "        4.50971634e-02, -7.30547359e-02,  2.99813716e-02,  2.25587242e-02,\n",
       "        3.78371593e-02,  1.22920554e-02,  3.16057380e-02,  2.99854738e-02,\n",
       "        1.96570935e-02,  4.46731719e-02,  4.29419226e-02,  8.44887557e-03,\n",
       "        9.58921083e-03,  4.38634109e-02, -4.15957246e-01,  3.77429745e-02,\n",
       "        4.32790722e-02,  2.31279610e-02,  4.25780234e-02,  4.21044354e-02,\n",
       "        4.14206720e-02,  2.38923240e-02,  4.37269488e-02,  3.22785733e-02,\n",
       "        4.06630694e-02,  3.88871263e-02,  4.33141792e-02, -3.10317049e-01,\n",
       "        1.94570537e-02, -1.58899471e-01,  3.38102143e-02,  2.84556477e-02,\n",
       "        4.01247241e-02,  1.44981993e-02,  3.53051482e-02,  3.07757287e-02,\n",
       "        3.37261055e-02, -1.62192947e-01,  4.41342087e-02,  6.58661994e-03,\n",
       "        3.81258821e-02,  1.54078666e-02,  1.24515015e-02,  3.60221309e-02,\n",
       "        4.53329908e-02,  2.96945430e-02, -6.25306423e-02,  2.79542565e-02,\n",
       "        3.27901513e-02,  4.39249826e-02,  2.38063561e-02,  3.87828190e-02,\n",
       "        3.77973549e-02,  4.51485347e-02,  3.37158998e-02,  4.05323879e-02,\n",
       "        3.73519389e-02,  4.63009113e-02,  1.72358542e-02,  3.74005411e-02,\n",
       "        4.15528533e-02,  3.22312571e-02,  2.61374667e-02,  2.41897992e-02,\n",
       "       -1.19508992e-01,  2.77267066e-02,  3.90304058e-02,  3.64789276e-02,\n",
       "        2.63521026e-02,  4.23222714e-02,  3.93129470e-02,  1.34916389e-02,\n",
       "        4.21884195e-02,  4.21904005e-02,  3.49793489e-02,  3.88340238e-02,\n",
       "        2.66615316e-02,  3.36436229e-02,  3.69735199e-02,  4.15637145e-02,\n",
       "        2.49591677e-02,  4.30873148e-02,  3.86070017e-02,  3.57473448e-02,\n",
       "        3.48649699e-02,  4.65139911e-02, -3.19484482e-01,  3.92799103e-02,\n",
       "        3.24835470e-02, -7.21425578e-03,  3.83686903e-02,  3.44270046e-02,\n",
       "        3.92218409e-02,  4.55192428e-02,  4.10259546e-02,  4.61343630e-02,\n",
       "        1.39477122e-02,  4.39576447e-02,  3.88736418e-02,  3.09918470e-02,\n",
       "        2.74583061e-02,  4.33814049e-02,  1.55121882e-02,  4.58553367e-02,\n",
       "       -3.02062495e-01,  4.16870636e-02,  3.28338510e-02,  3.61428554e-02,\n",
       "        4.06871234e-02,  5.31527268e-04,  3.57467981e-02,  4.35902265e-02,\n",
       "        1.12393888e-02, -1.13426219e-02,  4.73482449e-03,  2.11964317e-02,\n",
       "        4.02907457e-02,  1.07052982e-02,  4.45144478e-02,  3.97434205e-02,\n",
       "        3.91652837e-02,  2.09281682e-02,  4.28750193e-02,  3.17880587e-02,\n",
       "       -3.92728595e-05,  7.64020898e-03,  3.57439545e-02, -4.70424041e-02,\n",
       "        2.87594315e-02,  4.60637629e-02,  4.54602070e-02,  1.65668756e-02,\n",
       "        4.10320506e-02,  3.99535400e-02, -3.87788662e-01,  3.82677696e-02,\n",
       "        4.33538599e-02,  2.61476492e-02,  4.30106850e-02,  3.84140938e-02,\n",
       "        2.05804899e-02,  4.41200971e-02,  6.85226080e-04, -1.84301907e-01,\n",
       "        4.64858944e-03, -2.33887879e-01,  0.00000000e+00,  6.18025102e-03,\n",
       "       -3.35889397e-01,  2.50267935e-02,  3.90211862e-02,  2.20956418e-02,\n",
       "        4.48915151e-02,  1.37966152e-02, -1.42069945e-03,  4.34393068e-02,\n",
       "        3.96071464e-02, -2.83856138e-03,  2.56077717e-02,  3.68532596e-02,\n",
       "        3.81954346e-02,  2.70918721e-02,  2.34229275e-02,  9.34563972e-03,\n",
       "        4.55523117e-02,  3.33946796e-02,  4.13418162e-02,  4.00758744e-02,\n",
       "        1.17943090e-02,  4.43464783e-02,  4.13965647e-02,  3.71661208e-02,\n",
       "        3.40099476e-02,  3.08312757e-02,  4.40220325e-02,  4.07150839e-02,\n",
       "        4.39921692e-02, -2.47179984e-01,  4.17130980e-02,  3.64307558e-02,\n",
       "        2.59772714e-02,  3.02594231e-02,  4.34014357e-02,  3.93784747e-02,\n",
       "        3.69132806e-02,  3.59871435e-02,  2.93377397e-02,  4.65021785e-02,\n",
       "        4.58547828e-02,  4.54384077e-02,  3.98927463e-02,  4.11579632e-02,\n",
       "        2.46996955e-02,  2.95796001e-02, -8.09429853e-03, -4.05901879e-01,\n",
       "        2.34834398e-02,  1.67016088e-02,  3.87717452e-02,  3.01795451e-02,\n",
       "        4.54050829e-02, -3.90895000e-01,  4.25146389e-02,  1.97712163e-02,\n",
       "        3.46737452e-02,  1.77732119e-02,  2.49235861e-02,  3.86441833e-02,\n",
       "        1.43946989e-02,  4.24950020e-02,  3.52359749e-02,  4.19465926e-02,\n",
       "       -5.42730496e-03,  3.34336896e-02,  4.03101265e-02,  3.42456827e-02,\n",
       "        3.49306999e-02,  4.03630511e-02,  3.57172883e-02,  4.09539930e-02,\n",
       "        2.51151824e-02,  4.06132487e-02,  3.69911372e-02,  4.00362908e-02,\n",
       "       -2.60945471e-09,  3.33073726e-02,  4.49870073e-02,  3.95568156e-02,\n",
       "        4.65774133e-02,  4.62366017e-02,  2.89319582e-02,  3.65597539e-02,\n",
       "        1.61026851e-02,  4.04773006e-02,  2.98752173e-02,  3.62021277e-02,\n",
       "        1.05842881e-02,  3.69758988e-02,  1.74424282e-02,  4.54964088e-02,\n",
       "        1.32616761e-02,  4.46280591e-02,  3.20155788e-02,  1.96484202e-02,\n",
       "        3.45728381e-02,  2.10304305e-02,  1.30052269e-03,  3.17988277e-02,\n",
       "        4.18729366e-02,  1.12972189e-02,  2.17279550e-02,  4.03417090e-02,\n",
       "        3.41346072e-02,  1.92073991e-02,  2.96434658e-02,  4.02164419e-02,\n",
       "        7.50996887e-04,  2.66355430e-02,  4.50923129e-02,  4.16460438e-02,\n",
       "        1.74816420e-02, -2.87293736e-01,  2.48225471e-02,  3.80387196e-02,\n",
       "        3.65085905e-02,  2.95774990e-02, -2.96903265e-02,  3.25218919e-02,\n",
       "        1.65590732e-02,  4.04226503e-02, -1.53555967e-02, -3.31251731e-01,\n",
       "        4.31042339e-02,  6.61526605e-03,  2.68073552e-02,  9.53290347e-03,\n",
       "        2.58034304e-02,  4.21841236e-02,  2.32732196e-02,  2.63376270e-02,\n",
       "        4.46001487e-02,  4.54632696e-02,  3.43361333e-02, -3.65354252e-01,\n",
       "       -2.11030914e-02,  2.50594332e-02,  3.63328701e-02,  3.84219312e-03,\n",
       "        4.17080557e-02,  1.87657547e-02, -8.08581346e-02,  3.78588523e-02,\n",
       "        4.15193045e-02,  4.57837579e-02,  3.99783842e-02,  3.02668426e-02,\n",
       "        4.57237098e-02,  2.08055123e-02,  2.40086523e-02,  4.61886871e-02,\n",
       "        3.41356141e-02,  4.25927902e-02,  2.69537786e-02,  4.05698572e-02,\n",
       "        3.24635237e-02,  4.29893745e-02,  2.76990730e-02, -7.09909940e-02,\n",
       "        1.12059480e-02,  4.14507014e-02,  4.12859804e-02,  3.37305794e-02,\n",
       "       -3.04936488e-01,  3.81333853e-02,  3.17645775e-02,  1.62274821e-02,\n",
       "        5.64525058e-03,  2.04484966e-02,  2.38764625e-02,  3.90335322e-02,\n",
       "       -1.01922176e-02,  4.40295394e-02,  3.03829395e-02,  4.32837939e-02,\n",
       "        3.27359012e-02, -5.47794971e-03,  4.17959740e-02,  4.20550916e-02,\n",
       "        1.10570512e-02,  4.58980681e-02,  4.27878169e-02,  4.37799222e-02,\n",
       "        4.63310879e-02,  2.68187054e-02,  4.62835313e-02,  3.65862229e-02,\n",
       "        2.01702464e-02,  1.93787038e-02,  3.39274827e-02,  1.43504069e-02,\n",
       "        2.90815686e-02,  4.27183890e-02,  4.55811151e-02,  2.52350598e-02,\n",
       "        3.32196162e-02,  2.54199637e-02,  7.89306742e-03,  4.46022797e-02,\n",
       "        5.45160794e-03,  4.49742167e-02,  4.30682213e-02,  3.63391030e-02,\n",
       "        4.50621487e-02,  3.68731871e-02,  1.37301845e-02,  1.90844061e-02,\n",
       "        3.98745022e-02,  2.97636611e-02,  9.30355108e-03,  3.23479928e-02,\n",
       "        7.73239128e-03, -2.27317223e-02,  4.60297589e-02,  9.37045027e-03,\n",
       "        8.43967143e-03,  4.33704194e-02,  3.55052875e-02, -3.55281359e-04,\n",
       "        2.30270324e-02,  3.54048226e-02,  1.80286409e-02,  4.49397362e-02,\n",
       "        4.99531270e-03,  2.73268866e-02, -3.77750131e-01,  4.10240069e-02,\n",
       "        3.93971646e-02,  3.61580966e-02,  4.31676392e-02,  3.16627893e-02,\n",
       "        4.40953691e-02,  4.38500545e-02,  4.42898311e-02,  4.48600942e-02,\n",
       "       -6.99525755e-04,  2.90730213e-02,  2.16129196e-02,  3.30221800e-02,\n",
       "       -2.03248689e-02,  3.85624301e-02,  6.94795820e-03, -2.14596736e-02,\n",
       "        4.65515706e-02,  3.75991141e-02,  1.35905732e-02,  1.95820761e-02,\n",
       "        4.35984167e-02,  3.15963462e-02,  4.09353402e-02,  4.15289151e-02,\n",
       "        3.01827141e-02,  2.61669205e-02,  2.79073874e-02,  4.55779310e-02,\n",
       "        4.12466804e-02,  3.13397991e-02,  2.27815143e-02,  2.20228728e-02,\n",
       "        2.34023954e-02,  2.07039033e-02, -8.77379628e-03,  4.66010152e-02,\n",
       "        4.36587760e-02,  4.06256541e-02,  3.39706565e-02,  3.12864559e-02])"
      ]
     },
     "execution_count": 5,
     "metadata": {},
     "output_type": "execute_result"
    }
   ],
   "source": [
    "decision"
   ]
  },
  {
   "cell_type": "code",
   "execution_count": 6,
   "metadata": {},
   "outputs": [],
   "source": [
    "x_data = torch.tensor(X)"
   ]
  },
  {
   "cell_type": "code",
   "execution_count": 7,
   "metadata": {},
   "outputs": [],
   "source": [
    "classifier = OneClassSVMClassifier(x_data, nu=0.5, gamma=0.8, num_inducing_points=100)"
   ]
  },
  {
   "cell_type": "code",
   "execution_count": 8,
   "metadata": {},
   "outputs": [
    {
     "data": {
      "text/plain": [
       "(array([ 1.63569063e-02,  3.66975888e-02, -2.54830970e-01, -2.70528972e-08,\n",
       "        -2.76635173e-01,  4.51125384e-02, -2.53388323e-01, -2.65873127e-01,\n",
       "        -2.26902622e-01,  1.97015026e-02,  6.15900677e-03, -1.75549917e-01,\n",
       "         3.42195116e-02, -2.77601183e-01,  2.05605184e-02,  2.65166225e-02,\n",
       "        -1.18733387e-02, -2.50843572e-01, -8.11815422e-08, -1.72640604e-01,\n",
       "        -2.92448066e-01, -2.87445989e-01, -3.14021736e-02,  4.07001072e-02,\n",
       "         3.86325421e-02, -1.04214922e-02,  3.68586307e-02, -2.68134214e-01,\n",
       "        -3.03343173e-02, -1.00519296e-03, -1.51290072e-01,  1.03136160e-02,\n",
       "         2.45576173e-02, -2.66204441e-01, -2.55615831e-01, -8.31025753e-02,\n",
       "         4.07807355e-02, -2.57175172e-01, -6.04580932e-03,  3.16874815e-02,\n",
       "        -2.63140321e-01, -9.69926335e-02,  2.18462048e-02, -3.91724390e-02,\n",
       "        -2.64449412e-01,  4.52606036e-02,  3.24186707e-02, -2.56170522e-01,\n",
       "        -4.18622348e-02, -2.27526067e-03, -1.85986150e-02, -1.11098245e-01,\n",
       "        -8.63924957e-03,  2.64066790e-02, -5.55111512e-17,  2.43308106e-02,\n",
       "         4.12766688e-02,  3.54004356e-02, -1.90036871e-01, -2.07718189e-03,\n",
       "        -3.83241985e-02,  4.31759710e-02, -2.20432490e-01,  4.49795258e-02,\n",
       "        -5.23515563e-02,  2.58685074e-02, -1.03257146e-02,  1.75814761e-02,\n",
       "         4.03766530e-02,  2.46774369e-02,  1.83792411e-02,  6.85895518e-04,\n",
       "         1.46743264e-02, -1.82360787e-03,  2.54885400e-02, -9.73387426e-02,\n",
       "         3.24947428e-02, -4.60034681e-02, -1.27785703e-02,  3.18044610e-02,\n",
       "         3.92100255e-03,  4.33940922e-09, -2.19301462e-02,  4.36756586e-02,\n",
       "         3.69430083e-02, -7.24705050e-02,  8.40860615e-03,  4.09322293e-02,\n",
       "         3.36152826e-02,  8.84202501e-03,  4.10738777e-02,  1.86449390e-02,\n",
       "         3.29494608e-02,  2.68274605e-02,  1.92531472e-02, -1.13778207e-02,\n",
       "         3.69958326e-02, -3.24628464e-02, -2.40103172e-02,  1.16640277e-02]),\n",
       " array([ 1.,  1., -1., -1., -1.,  1., -1., -1., -1.,  1.,  1., -1.,  1.,\n",
       "        -1.,  1.,  1., -1., -1., -1., -1., -1., -1., -1.,  1.,  1., -1.,\n",
       "         1., -1., -1., -1., -1.,  1.,  1., -1., -1., -1.,  1., -1., -1.,\n",
       "         1., -1., -1.,  1., -1., -1.,  1.,  1., -1., -1., -1., -1., -1.,\n",
       "        -1.,  1., -1.,  1.,  1.,  1., -1., -1., -1.,  1., -1.,  1., -1.,\n",
       "         1., -1.,  1.,  1.,  1.,  1.,  1.,  1., -1.,  1., -1.,  1., -1.,\n",
       "        -1.,  1.,  1.,  1., -1.,  1.,  1., -1.,  1.,  1.,  1.,  1.,  1.,\n",
       "         1.,  1.,  1.,  1., -1.,  1., -1., -1.,  1.]))"
      ]
     },
     "execution_count": 8,
     "metadata": {},
     "output_type": "execute_result"
    }
   ],
   "source": [
    "classifier.fit()"
   ]
  },
  {
   "cell_type": "code",
   "execution_count": 9,
   "metadata": {},
   "outputs": [],
   "source": [
    "decision, y_pred = classifier.decision()"
   ]
  },
  {
   "cell_type": "code",
   "execution_count": 10,
   "metadata": {},
   "outputs": [
    {
     "data": {
      "text/plain": [
       "array([ 1.63569063e-02,  3.66975888e-02, -2.54830970e-01, -2.70528972e-08,\n",
       "       -2.76635173e-01,  4.51125384e-02, -2.53388323e-01, -2.65873127e-01,\n",
       "       -2.26902622e-01,  1.97015026e-02,  6.15900677e-03, -1.75549917e-01,\n",
       "        3.42195116e-02, -2.77601183e-01,  2.05605184e-02,  2.65166225e-02,\n",
       "       -1.18733387e-02, -2.50843572e-01, -8.11815422e-08, -1.72640604e-01,\n",
       "       -2.92448066e-01, -2.87445989e-01, -3.14021736e-02,  4.07001072e-02,\n",
       "        3.86325421e-02, -1.04214922e-02,  3.68586307e-02, -2.68134214e-01,\n",
       "       -3.03343173e-02, -1.00519296e-03, -1.51290072e-01,  1.03136160e-02,\n",
       "        2.45576173e-02, -2.66204441e-01, -2.55615831e-01, -8.31025753e-02,\n",
       "        4.07807355e-02, -2.57175172e-01, -6.04580932e-03,  3.16874815e-02,\n",
       "       -2.63140321e-01, -9.69926335e-02,  2.18462048e-02, -3.91724390e-02,\n",
       "       -2.64449412e-01,  4.52606036e-02,  3.24186707e-02, -2.56170522e-01,\n",
       "       -4.18622348e-02, -2.27526067e-03, -1.85986150e-02, -1.11098245e-01,\n",
       "       -8.63924957e-03,  2.64066790e-02, -5.55111512e-17,  2.43308106e-02,\n",
       "        4.12766688e-02,  3.54004356e-02, -1.90036871e-01, -2.07718189e-03,\n",
       "       -3.83241985e-02,  4.31759710e-02, -2.20432490e-01,  4.49795258e-02,\n",
       "       -5.23515563e-02,  2.58685074e-02, -1.03257146e-02,  1.75814761e-02,\n",
       "        4.03766530e-02,  2.46774369e-02,  1.83792411e-02,  6.85895518e-04,\n",
       "        1.46743264e-02, -1.82360787e-03,  2.54885400e-02, -9.73387426e-02,\n",
       "        3.24947428e-02, -4.60034681e-02, -1.27785703e-02,  3.18044610e-02,\n",
       "        3.92100255e-03,  4.33940922e-09, -2.19301462e-02,  4.36756586e-02,\n",
       "        3.69430083e-02, -7.24705050e-02,  8.40860615e-03,  4.09322293e-02,\n",
       "        3.36152826e-02,  8.84202501e-03,  4.10738777e-02,  1.86449390e-02,\n",
       "        3.29494608e-02,  2.68274605e-02,  1.92531472e-02, -1.13778207e-02,\n",
       "        3.69958326e-02, -3.24628464e-02, -2.40103172e-02,  1.16640277e-02])"
      ]
     },
     "execution_count": 10,
     "metadata": {},
     "output_type": "execute_result"
    }
   ],
   "source": [
    "decision"
   ]
  },
  {
   "cell_type": "code",
   "execution_count": 11,
   "metadata": {},
   "outputs": [
    {
     "data": {
      "text/plain": [
       "array([ 1.,  1., -1., -1., -1.,  1., -1., -1., -1.,  1.,  1., -1.,  1.,\n",
       "       -1.,  1.,  1., -1., -1., -1., -1., -1., -1., -1.,  1.,  1., -1.,\n",
       "        1., -1., -1., -1., -1.,  1.,  1., -1., -1., -1.,  1., -1., -1.,\n",
       "        1., -1., -1.,  1., -1., -1.,  1.,  1., -1., -1., -1., -1., -1.,\n",
       "       -1.,  1., -1.,  1.,  1.,  1., -1., -1., -1.,  1., -1.,  1., -1.,\n",
       "        1., -1.,  1.,  1.,  1.,  1.,  1.,  1., -1.,  1., -1.,  1., -1.,\n",
       "       -1.,  1.,  1.,  1., -1.,  1.,  1., -1.,  1.,  1.,  1.,  1.,  1.,\n",
       "        1.,  1.,  1.,  1., -1.,  1., -1., -1.,  1.])"
      ]
     },
     "execution_count": 11,
     "metadata": {},
     "output_type": "execute_result"
    }
   ],
   "source": [
    "y_pred"
   ]
  },
  {
   "cell_type": "code",
   "execution_count": 12,
   "metadata": {},
   "outputs": [
    {
     "data": {
      "image/png": "[encoded data removed]",
      "text/plain": [
       "<Figure size 640x480 with 1 Axes>"
      ]
     },
     "metadata": {},
     "output_type": "display_data"
    }
   ],
   "source": [
    "classifier.plot()"
   ]
  },
  {
   "cell_type": "code",
   "execution_count": 13,
   "metadata": {},
   "outputs": [],
   "source": [
    "# create object of ocsvmshap\n",
    "from src.explanation_algorithms.OCSVMSHAP import OCSVMSHAP"
   ]
  },
  {
   "cell_type": "code",
   "execution_count": 14,
   "metadata": {},
   "outputs": [],
   "source": [
    "ocsvm_shap = OCSVMSHAP(X=x_data, classifier=classifier)"
   ]
  },
  {
   "cell_type": "code",
   "execution_count": 15,
   "metadata": {},
   "outputs": [
    {
     "data": {
      "text/plain": [
       "4"
      ]
     },
     "execution_count": 15,
     "metadata": {},
     "output_type": "execute_result"
    }
   ],
   "source": [
    "x_data.shape\n",
    "2**x_data.shape[1]"
   ]
  },
  {
   "cell_type": "code",
   "execution_count": 16,
   "metadata": {},
   "outputs": [
    {
     "name": "stderr",
     "output_type": "stream",
     "text": [
      "/Users/swathisuhas/Documents/CISPA/OCSVM-SHAP/ExplainingGaussianProcess/src/utils/shapley_procedure/coalitions.py:19: RuntimeWarning: divide by zero encountered in log2\n",
      "  set_to_1 = np.floor(np.log2(rest)).astype(int)\n",
      "/Users/swathisuhas/Documents/CISPA/OCSVM-SHAP/ExplainingGaussianProcess/src/utils/shapley_procedure/coalitions.py:19: RuntimeWarning: invalid value encountered in cast\n",
      "  set_to_1 = np.floor(np.log2(rest)).astype(int)\n",
      "/Users/swathisuhas/Documents/CISPA/OCSVM-SHAP/ExplainingGaussianProcess/src/utils/shapley_procedure/coalitions.py:19: RuntimeWarning: invalid value encountered in log2\n",
      "  set_to_1 = np.floor(np.log2(rest)).astype(int)\n",
      "100%|██████████| 3/3 [00:00<00:00, 307.73it/s]\n"
     ]
    },
    {
     "ename": "TypeError",
     "evalue": "Concatenation operation is not implemented for NumPy arrays, use np.concatenate() instead. Please do not rely on this error; it may not be given on all Python implementations.",
     "output_type": "error",
     "traceback": [
      "\u001b[0;31m---------------------------------------------------------------------------\u001b[0m",
      "\u001b[0;31m_RemoteTraceback\u001b[0m                          Traceback (most recent call last)",
      "\u001b[0;31m_RemoteTraceback\u001b[0m: \n\"\"\"\nTraceback (most recent call last):\n  File \"/Users/swathisuhas/miniconda3/lib/python3.12/site-packages/joblib/externals/loky/process_executor.py\", line 463, in _process_worker\n    r = call_item()\n        ^^^^^^^^^^^\n  File \"/Users/swathisuhas/miniconda3/lib/python3.12/site-packages/joblib/externals/loky/process_executor.py\", line 291, in __call__\n    return self.fn(*self.args, **self.kwargs)\n           ^^^^^^^^^^^^^^^^^^^^^^^^^^^^^^^^^^\n  File \"/Users/swathisuhas/miniconda3/lib/python3.12/site-packages/joblib/parallel.py\", line 589, in __call__\n    return [func(*args, **kwargs)\n            ^^^^^^^^^^^^^^^^^^^^^\n  File \"/Users/swathisuhas/Documents/CISPA/OCSVM-SHAP/ExplainingGaussianProcess/src/explanation_algorithms/OCSVMSHAP.py\", line 56, in <lambda>\n    compute_conditional_mean_projections = lambda S: self._compute_conditional_mean_projection(S.bool(), X)\n                                                     ^^^^^^^^^^^^^^^^^^^^^^^^^^^^^^^^^^^^^^^^^^^^^^^^^^^^^^\n  File \"/Users/swathisuhas/Documents/CISPA/OCSVM-SHAP/ExplainingGaussianProcess/src/explanation_algorithms/OCSVMSHAP.py\", line 91, in _compute_conditional_mean_projection\n    K_SS_regularized = K_SS + regularization_term * np.eye(K_SS.shape[0])\n                       ~~~~~^~~~~~~~~~~~~~~~~~~~~~~~~~~~~~~~~~~~~~~~~~~~~\nTypeError: Concatenation operation is not implemented for NumPy arrays, use np.concatenate() instead. Please do not rely on this error; it may not be given on all Python implementations.\n\"\"\"",
      "\nThe above exception was the direct cause of the following exception:\n",
      "\u001b[0;31mTypeError\u001b[0m                                 Traceback (most recent call last)",
      "Cell \u001b[0;32mIn[16], line 1\u001b[0m\n\u001b[0;32m----> 1\u001b[0m \u001b[43mocsvm_shap\u001b[49m\u001b[38;5;241;43m.\u001b[39;49m\u001b[43mfit_ocsvmshap\u001b[49m\u001b[43m(\u001b[49m\u001b[43mX\u001b[49m\u001b[38;5;241;43m=\u001b[39;49m\u001b[43mx_data\u001b[49m\u001b[43m,\u001b[49m\u001b[43m \u001b[49m\u001b[43mnum_coalitions\u001b[49m\u001b[38;5;241;43m=\u001b[39;49m\u001b[38;5;241;43m2\u001b[39;49m\u001b[38;5;241;43m*\u001b[39;49m\u001b[38;5;241;43m*\u001b[39;49m\u001b[43mx_data\u001b[49m\u001b[38;5;241;43m.\u001b[39;49m\u001b[43mshape\u001b[49m\u001b[43m[\u001b[49m\u001b[38;5;241;43m1\u001b[39;49m\u001b[43m]\u001b[49m\u001b[43m)\u001b[49m\n",
      "File \u001b[0;32m~/Documents/CISPA/OCSVM-SHAP/ExplainingGaussianProcess/src/explanation_algorithms/OCSVMSHAP.py:40\u001b[0m, in \u001b[0;36mOCSVMSHAP.fit_ocsvmshap\u001b[0;34m(self, X, num_coalitions)\u001b[0m\n\u001b[1;32m     37\u001b[0m \u001b[38;5;28;01mdef\u001b[39;00m \u001b[38;5;21mfit_ocsvmshap\u001b[39m(\u001b[38;5;28mself\u001b[39m, X: FloatTensor, num_coalitions: \u001b[38;5;28mint\u001b[39m) \u001b[38;5;241m-\u001b[39m\u001b[38;5;241m>\u001b[39m \u001b[38;5;28;01mNone\u001b[39;00m:\n\u001b[1;32m     38\u001b[0m     \u001b[38;5;66;03m# X = self._scaled_by_lengthscales(X)\u001b[39;00m\n\u001b[1;32m     39\u001b[0m     \u001b[38;5;28mself\u001b[39m\u001b[38;5;241m.\u001b[39mweights, \u001b[38;5;28mself\u001b[39m\u001b[38;5;241m.\u001b[39mcoalitions \u001b[38;5;241m=\u001b[39m compute_weights_and_coalitions(num_features\u001b[38;5;241m=\u001b[39mX\u001b[38;5;241m.\u001b[39mshape[\u001b[38;5;241m1\u001b[39m], num_coalitions\u001b[38;5;241m=\u001b[39mnum_coalitions)\n\u001b[0;32m---> 40\u001b[0m     \u001b[38;5;28mself\u001b[39m\u001b[38;5;241m.\u001b[39mconditional_mean_projections \u001b[38;5;241m=\u001b[39m \u001b[38;5;28;43mself\u001b[39;49m\u001b[38;5;241;43m.\u001b[39;49m\u001b[43m_compute_conditional_mean_projections\u001b[49m\u001b[43m(\u001b[49m\u001b[43mX\u001b[49m\u001b[43m)\u001b[49m\n\u001b[1;32m     41\u001b[0m     \u001b[38;5;28mself\u001b[39m\u001b[38;5;241m.\u001b[39mmean_stochastic_value_function_evaluations \u001b[38;5;241m=\u001b[39m torch\u001b[38;5;241m.\u001b[39mcat([\n\u001b[1;32m     42\u001b[0m         torch\u001b[38;5;241m.\u001b[39mones((\u001b[38;5;241m1\u001b[39m, X\u001b[38;5;241m.\u001b[39mshape[\u001b[38;5;241m0\u001b[39m])) \u001b[38;5;241m*\u001b[39m torch\u001b[38;5;241m.\u001b[39mtensor(\u001b[38;5;28mself\u001b[39m\u001b[38;5;241m.\u001b[39mrho),\n\u001b[1;32m     43\u001b[0m         torch\u001b[38;5;241m.\u001b[39meinsum(\n\u001b[1;32m     44\u001b[0m             \u001b[38;5;124m'\u001b[39m\u001b[38;5;124mijk,j->ik\u001b[39m\u001b[38;5;124m'\u001b[39m, \u001b[38;5;28mself\u001b[39m\u001b[38;5;241m.\u001b[39mconditional_mean_projections, torch\u001b[38;5;241m.\u001b[39mtensor(\u001b[38;5;28mself\u001b[39m\u001b[38;5;241m.\u001b[39mmu_support)\n\u001b[1;32m     45\u001b[0m         )\n\u001b[1;32m     46\u001b[0m     ])\n",
      "File \u001b[0;32m~/Documents/CISPA/OCSVM-SHAP/ExplainingGaussianProcess/src/explanation_algorithms/OCSVMSHAP.py:58\u001b[0m, in \u001b[0;36mOCSVMSHAP._compute_conditional_mean_projections\u001b[0;34m(self, X)\u001b[0m\n\u001b[1;32m     55\u001b[0m minus_first_coalitions \u001b[38;5;241m=\u001b[39m \u001b[38;5;28mself\u001b[39m\u001b[38;5;241m.\u001b[39mcoalitions[\u001b[38;5;241m1\u001b[39m:]  \u001b[38;5;66;03m# remove the first row of 0s.\u001b[39;00m\n\u001b[1;32m     56\u001b[0m compute_conditional_mean_projections \u001b[38;5;241m=\u001b[39m \u001b[38;5;28;01mlambda\u001b[39;00m S: \u001b[38;5;28mself\u001b[39m\u001b[38;5;241m.\u001b[39m_compute_conditional_mean_projection(S\u001b[38;5;241m.\u001b[39mbool(), X)\n\u001b[1;32m     57\u001b[0m \u001b[38;5;28;01mreturn\u001b[39;00m torch\u001b[38;5;241m.\u001b[39mstack(\n\u001b[0;32m---> 58\u001b[0m     \u001b[43mParallel\u001b[49m\u001b[43m(\u001b[49m\u001b[43mn_jobs\u001b[49m\u001b[38;5;241;43m=\u001b[39;49m\u001b[38;5;28;43mself\u001b[39;49m\u001b[38;5;241;43m.\u001b[39;49m\u001b[43mnum_cpus\u001b[49m\u001b[43m)\u001b[49m\u001b[43m(\u001b[49m\n\u001b[1;32m     59\u001b[0m \u001b[43m        \u001b[49m\u001b[43mdelayed\u001b[49m\u001b[43m(\u001b[49m\u001b[43mcompute_conditional_mean_projections\u001b[49m\u001b[43m)\u001b[49m\u001b[43m(\u001b[49m\u001b[43mS\u001b[49m\u001b[38;5;241;43m.\u001b[39;49m\u001b[43mbool\u001b[49m\u001b[43m(\u001b[49m\u001b[43m)\u001b[49m\u001b[43m)\u001b[49m\n\u001b[1;32m     60\u001b[0m \u001b[43m        \u001b[49m\u001b[38;5;28;43;01mfor\u001b[39;49;00m\u001b[43m \u001b[49m\u001b[43mS\u001b[49m\u001b[43m \u001b[49m\u001b[38;5;129;43;01min\u001b[39;49;00m\u001b[43m \u001b[49m\u001b[43mtqdm\u001b[49m\u001b[43m(\u001b[49m\u001b[43mminus_first_coalitions\u001b[49m\u001b[43m)\u001b[49m\n\u001b[1;32m     61\u001b[0m \u001b[43m    \u001b[49m\u001b[43m)\u001b[49m\n\u001b[1;32m     62\u001b[0m )\n",
      "File \u001b[0;32m~/miniconda3/lib/python3.12/site-packages/joblib/parallel.py:1952\u001b[0m, in \u001b[0;36mParallel.__call__\u001b[0;34m(self, iterable)\u001b[0m\n\u001b[1;32m   1946\u001b[0m \u001b[38;5;66;03m# The first item from the output is blank, but it makes the interpreter\u001b[39;00m\n\u001b[1;32m   1947\u001b[0m \u001b[38;5;66;03m# progress until it enters the Try/Except block of the generator and\u001b[39;00m\n\u001b[1;32m   1948\u001b[0m \u001b[38;5;66;03m# reach the first `yield` statement. This starts the aynchronous\u001b[39;00m\n\u001b[1;32m   1949\u001b[0m \u001b[38;5;66;03m# dispatch of the tasks to the workers.\u001b[39;00m\n\u001b[1;32m   1950\u001b[0m \u001b[38;5;28mnext\u001b[39m(output)\n\u001b[0;32m-> 1952\u001b[0m \u001b[38;5;28;01mreturn\u001b[39;00m output \u001b[38;5;28;01mif\u001b[39;00m \u001b[38;5;28mself\u001b[39m\u001b[38;5;241m.\u001b[39mreturn_generator \u001b[38;5;28;01melse\u001b[39;00m \u001b[38;5;28;43mlist\u001b[39;49m\u001b[43m(\u001b[49m\u001b[43moutput\u001b[49m\u001b[43m)\u001b[49m\n",
      "File \u001b[0;32m~/miniconda3/lib/python3.12/site-packages/joblib/parallel.py:1595\u001b[0m, in \u001b[0;36mParallel._get_outputs\u001b[0;34m(self, iterator, pre_dispatch)\u001b[0m\n\u001b[1;32m   1592\u001b[0m     \u001b[38;5;28;01myield\u001b[39;00m\n\u001b[1;32m   1594\u001b[0m     \u001b[38;5;28;01mwith\u001b[39;00m \u001b[38;5;28mself\u001b[39m\u001b[38;5;241m.\u001b[39m_backend\u001b[38;5;241m.\u001b[39mretrieval_context():\n\u001b[0;32m-> 1595\u001b[0m         \u001b[38;5;28;01myield from\u001b[39;00m \u001b[38;5;28mself\u001b[39m\u001b[38;5;241m.\u001b[39m_retrieve()\n\u001b[1;32m   1597\u001b[0m \u001b[38;5;28;01mexcept\u001b[39;00m \u001b[38;5;167;01mGeneratorExit\u001b[39;00m:\n\u001b[1;32m   1598\u001b[0m     \u001b[38;5;66;03m# The generator has been garbage collected before being fully\u001b[39;00m\n\u001b[1;32m   1599\u001b[0m     \u001b[38;5;66;03m# consumed. This aborts the remaining tasks if possible and warn\u001b[39;00m\n\u001b[1;32m   1600\u001b[0m     \u001b[38;5;66;03m# the user if necessary.\u001b[39;00m\n\u001b[1;32m   1601\u001b[0m     \u001b[38;5;28mself\u001b[39m\u001b[38;5;241m.\u001b[39m_exception \u001b[38;5;241m=\u001b[39m \u001b[38;5;28;01mTrue\u001b[39;00m\n",
      "File \u001b[0;32m~/miniconda3/lib/python3.12/site-packages/joblib/parallel.py:1699\u001b[0m, in \u001b[0;36mParallel._retrieve\u001b[0;34m(self)\u001b[0m\n\u001b[1;32m   1692\u001b[0m \u001b[38;5;28;01mwhile\u001b[39;00m \u001b[38;5;28mself\u001b[39m\u001b[38;5;241m.\u001b[39m_wait_retrieval():\n\u001b[1;32m   1693\u001b[0m \n\u001b[1;32m   1694\u001b[0m     \u001b[38;5;66;03m# If the callback thread of a worker has signaled that its task\u001b[39;00m\n\u001b[1;32m   1695\u001b[0m     \u001b[38;5;66;03m# triggered an exception, or if the retrieval loop has raised an\u001b[39;00m\n\u001b[1;32m   1696\u001b[0m     \u001b[38;5;66;03m# exception (e.g. `GeneratorExit`), exit the loop and surface the\u001b[39;00m\n\u001b[1;32m   1697\u001b[0m     \u001b[38;5;66;03m# worker traceback.\u001b[39;00m\n\u001b[1;32m   1698\u001b[0m     \u001b[38;5;28;01mif\u001b[39;00m \u001b[38;5;28mself\u001b[39m\u001b[38;5;241m.\u001b[39m_aborting:\n\u001b[0;32m-> 1699\u001b[0m         \u001b[38;5;28;43mself\u001b[39;49m\u001b[38;5;241;43m.\u001b[39;49m\u001b[43m_raise_error_fast\u001b[49m\u001b[43m(\u001b[49m\u001b[43m)\u001b[49m\n\u001b[1;32m   1700\u001b[0m         \u001b[38;5;28;01mbreak\u001b[39;00m\n\u001b[1;32m   1702\u001b[0m     \u001b[38;5;66;03m# If the next job is not ready for retrieval yet, we just wait for\u001b[39;00m\n\u001b[1;32m   1703\u001b[0m     \u001b[38;5;66;03m# async callbacks to progress.\u001b[39;00m\n",
      "File \u001b[0;32m~/miniconda3/lib/python3.12/site-packages/joblib/parallel.py:1734\u001b[0m, in \u001b[0;36mParallel._raise_error_fast\u001b[0;34m(self)\u001b[0m\n\u001b[1;32m   1730\u001b[0m \u001b[38;5;66;03m# If this error job exists, immediatly raise the error by\u001b[39;00m\n\u001b[1;32m   1731\u001b[0m \u001b[38;5;66;03m# calling get_result. This job might not exists if abort has been\u001b[39;00m\n\u001b[1;32m   1732\u001b[0m \u001b[38;5;66;03m# called directly or if the generator is gc'ed.\u001b[39;00m\n\u001b[1;32m   1733\u001b[0m \u001b[38;5;28;01mif\u001b[39;00m error_job \u001b[38;5;129;01mis\u001b[39;00m \u001b[38;5;129;01mnot\u001b[39;00m \u001b[38;5;28;01mNone\u001b[39;00m:\n\u001b[0;32m-> 1734\u001b[0m     \u001b[43merror_job\u001b[49m\u001b[38;5;241;43m.\u001b[39;49m\u001b[43mget_result\u001b[49m\u001b[43m(\u001b[49m\u001b[38;5;28;43mself\u001b[39;49m\u001b[38;5;241;43m.\u001b[39;49m\u001b[43mtimeout\u001b[49m\u001b[43m)\u001b[49m\n",
      "File \u001b[0;32m~/miniconda3/lib/python3.12/site-packages/joblib/parallel.py:736\u001b[0m, in \u001b[0;36mBatchCompletionCallBack.get_result\u001b[0;34m(self, timeout)\u001b[0m\n\u001b[1;32m    730\u001b[0m backend \u001b[38;5;241m=\u001b[39m \u001b[38;5;28mself\u001b[39m\u001b[38;5;241m.\u001b[39mparallel\u001b[38;5;241m.\u001b[39m_backend\n\u001b[1;32m    732\u001b[0m \u001b[38;5;28;01mif\u001b[39;00m backend\u001b[38;5;241m.\u001b[39msupports_retrieve_callback:\n\u001b[1;32m    733\u001b[0m     \u001b[38;5;66;03m# We assume that the result has already been retrieved by the\u001b[39;00m\n\u001b[1;32m    734\u001b[0m     \u001b[38;5;66;03m# callback thread, and is stored internally. It's just waiting to\u001b[39;00m\n\u001b[1;32m    735\u001b[0m     \u001b[38;5;66;03m# be returned.\u001b[39;00m\n\u001b[0;32m--> 736\u001b[0m     \u001b[38;5;28;01mreturn\u001b[39;00m \u001b[38;5;28;43mself\u001b[39;49m\u001b[38;5;241;43m.\u001b[39;49m\u001b[43m_return_or_raise\u001b[49m\u001b[43m(\u001b[49m\u001b[43m)\u001b[49m\n\u001b[1;32m    738\u001b[0m \u001b[38;5;66;03m# For other backends, the main thread needs to run the retrieval step.\u001b[39;00m\n\u001b[1;32m    739\u001b[0m \u001b[38;5;28;01mtry\u001b[39;00m:\n",
      "File \u001b[0;32m~/miniconda3/lib/python3.12/site-packages/joblib/parallel.py:754\u001b[0m, in \u001b[0;36mBatchCompletionCallBack._return_or_raise\u001b[0;34m(self)\u001b[0m\n\u001b[1;32m    752\u001b[0m \u001b[38;5;28;01mtry\u001b[39;00m:\n\u001b[1;32m    753\u001b[0m     \u001b[38;5;28;01mif\u001b[39;00m \u001b[38;5;28mself\u001b[39m\u001b[38;5;241m.\u001b[39mstatus \u001b[38;5;241m==\u001b[39m TASK_ERROR:\n\u001b[0;32m--> 754\u001b[0m         \u001b[38;5;28;01mraise\u001b[39;00m \u001b[38;5;28mself\u001b[39m\u001b[38;5;241m.\u001b[39m_result\n\u001b[1;32m    755\u001b[0m     \u001b[38;5;28;01mreturn\u001b[39;00m \u001b[38;5;28mself\u001b[39m\u001b[38;5;241m.\u001b[39m_result\n\u001b[1;32m    756\u001b[0m \u001b[38;5;28;01mfinally\u001b[39;00m:\n",
      "\u001b[0;31mTypeError\u001b[0m: Concatenation operation is not implemented for NumPy arrays, use np.concatenate() instead. Please do not rely on this error; it may not be given on all Python implementations."
     ]
    }
   ],
   "source": [
    "ocsvm_shap.fit_ocsvmshap(X=x_data, num_coalitions=2**x_data.shape[1])"
   ]
  },
  {
   "cell_type": "code",
   "execution_count": null,
   "metadata": {},
   "outputs": [],
   "source": []
  }
 ],
 "metadata": {
  "kernelspec": {
   "display_name": "base",
   "language": "python",
   "name": "python3"
  },
  "language_info": {
   "codemirror_mode": {
    "name": "ipython",
    "version": 3
   },
   "file_extension": ".py",
   "mimetype": "text/x-python",
   "name": "python",
   "nbconvert_exporter": "python",
   "pygments_lexer": "ipython3",
   "version": "3.12.1"
  }
 },
 "nbformat": 4,
 "nbformat_minor": 2
}
