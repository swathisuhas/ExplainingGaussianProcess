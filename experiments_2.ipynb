{
 "cells": [
  {
   "cell_type": "markdown",
   "metadata": {},
   "source": [
    "## Experiment 2.1\n",
    "Consider the Iris flower dataset. It has 4 features - sepal length in cm, sepal width in cm, petal length in cm, petal width in cm.\n",
    "\n",
    "We will also add 2 other features called artificial_feature_1 and arificial_feature_2 with custom values. \n",
    "\n",
    "For 5% of the data samples, we give an extremely large value of artificial_feature_1 and for another 5% of the data samples, an extremely large value of artificial_feature_2. Rest of the samples have value 0 for these features. \n",
    "\n",
    "We will define the process of explaning an outlier as the process of identifying the right feature(s) that makes the data sample an outlier.\n",
    "\n",
    "Given this scenario, we expect artificial_feature_1 to be the explanation when a data sample from the first 5% of data is chosen. Simillarly, artificial_feature_1 as the explanation when any data sample from the second 5% data is chosen. "
   ]
  },
  {
   "cell_type": "code",
   "execution_count": 1,
   "metadata": {},
   "outputs": [],
   "source": [
    "from src.ocsvm.OneClassSVMClassifier import OneClassSVMClassifier\n",
    "import numpy as np\n",
    "import matplotlib.pyplot as plt\n",
    "import torch\n",
    "import pandas as pd\n",
    "from sklearn import datasets\n",
    "import random"
   ]
  },
  {
   "cell_type": "code",
   "execution_count": 2,
   "metadata": {},
   "outputs": [],
   "source": [
    "# Load the Iris dataset\n",
    "iris = datasets.load_iris()\n",
    "df = pd.DataFrame(data=iris.data, columns=iris.feature_names)\n",
    "\n",
    "# Initialize the new features\n",
    "df['artificial_feature_1'] = 0\n",
    "df['artificial_feature_2'] = 0"
   ]
  },
  {
   "cell_type": "code",
   "execution_count": 3,
   "metadata": {},
   "outputs": [
    {
     "data": {
      "text/plain": [
       "7"
      ]
     },
     "execution_count": 3,
     "metadata": {},
     "output_type": "execute_result"
    }
   ],
   "source": [
    "# Set random seed for reproducibility\n",
    "np.random.seed(1)\n",
    "\n",
    "# Calculate the number of samples\n",
    "num_samples = df.shape[0]\n",
    "num_samples_to_modify = int(num_samples * 0.05)\n",
    "num_samples_to_modify"
   ]
  },
  {
   "cell_type": "code",
   "execution_count": 4,
   "metadata": {},
   "outputs": [
    {
     "data": {
      "text/plain": [
       "['sepal length (cm)',\n",
       " 'sepal width (cm)',\n",
       " 'petal length (cm)',\n",
       " 'petal width (cm)',\n",
       " 'artificial_feature_1',\n",
       " 'artificial_feature_2']"
      ]
     },
     "execution_count": 4,
     "metadata": {},
     "output_type": "execute_result"
    }
   ],
   "source": [
    "feature_names = df.columns.tolist()\n",
    "feature_names"
   ]
  },
  {
   "cell_type": "code",
   "execution_count": 5,
   "metadata": {},
   "outputs": [],
   "source": [
    "# Randomly select 5% of the indices for artificial_feature_1\n",
    "indices_feature_1 = np.random.choice(df.index, size=num_samples_to_modify, replace=False)\n",
    "\n",
    "# Assign a large value to artificial_feature_1 for these indices\n",
    "df.loc[indices_feature_1, 'artificial_feature_1'] = np.random.randint(10000, 50001, size=len(indices_feature_1))"
   ]
  },
  {
   "cell_type": "code",
   "execution_count": 6,
   "metadata": {},
   "outputs": [],
   "source": [
    "# Randomly select 5% of the indices for artificial_feature_2, ensuring no overlap\n",
    "remaining_indices = np.setdiff1d(df.index, indices_feature_1)\n",
    "indices_feature_2 = np.random.choice(remaining_indices, size=num_samples_to_modify, replace=False)\n",
    "\n",
    "# Assign a large value to artificial_feature_2 for these indices\n",
    "df.loc[indices_feature_2, 'artificial_feature_2'] = np.random.randint(10000, 50001, size=len(indices_feature_2))"
   ]
  },
  {
   "cell_type": "code",
   "execution_count": 7,
   "metadata": {},
   "outputs": [
    {
     "data": {
      "text/html": [
       "<div>\n",
       "<style scoped>\n",
       "    .dataframe tbody tr th:only-of-type {\n",
       "        vertical-align: middle;\n",
       "    }\n",
       "\n",
       "    .dataframe tbody tr th {\n",
       "        vertical-align: top;\n",
       "    }\n",
       "\n",
       "    .dataframe thead th {\n",
       "        text-align: right;\n",
       "    }\n",
       "</style>\n",
       "<table border=\"1\" class=\"dataframe\">\n",
       "  <thead>\n",
       "    <tr style=\"text-align: right;\">\n",
       "      <th></th>\n",
       "      <th>sepal length (cm)</th>\n",
       "      <th>sepal width (cm)</th>\n",
       "      <th>petal length (cm)</th>\n",
       "      <th>petal width (cm)</th>\n",
       "      <th>artificial_feature_1</th>\n",
       "      <th>artificial_feature_2</th>\n",
       "    </tr>\n",
       "  </thead>\n",
       "  <tbody>\n",
       "    <tr>\n",
       "      <th>0</th>\n",
       "      <td>5.1</td>\n",
       "      <td>3.5</td>\n",
       "      <td>1.4</td>\n",
       "      <td>0.2</td>\n",
       "      <td>0</td>\n",
       "      <td>0</td>\n",
       "    </tr>\n",
       "    <tr>\n",
       "      <th>1</th>\n",
       "      <td>4.9</td>\n",
       "      <td>3.0</td>\n",
       "      <td>1.4</td>\n",
       "      <td>0.2</td>\n",
       "      <td>0</td>\n",
       "      <td>20657</td>\n",
       "    </tr>\n",
       "    <tr>\n",
       "      <th>2</th>\n",
       "      <td>4.7</td>\n",
       "      <td>3.2</td>\n",
       "      <td>1.3</td>\n",
       "      <td>0.2</td>\n",
       "      <td>0</td>\n",
       "      <td>0</td>\n",
       "    </tr>\n",
       "    <tr>\n",
       "      <th>3</th>\n",
       "      <td>4.6</td>\n",
       "      <td>3.1</td>\n",
       "      <td>1.5</td>\n",
       "      <td>0.2</td>\n",
       "      <td>0</td>\n",
       "      <td>0</td>\n",
       "    </tr>\n",
       "    <tr>\n",
       "      <th>4</th>\n",
       "      <td>5.0</td>\n",
       "      <td>3.6</td>\n",
       "      <td>1.4</td>\n",
       "      <td>0.2</td>\n",
       "      <td>0</td>\n",
       "      <td>0</td>\n",
       "    </tr>\n",
       "    <tr>\n",
       "      <th>...</th>\n",
       "      <td>...</td>\n",
       "      <td>...</td>\n",
       "      <td>...</td>\n",
       "      <td>...</td>\n",
       "      <td>...</td>\n",
       "      <td>...</td>\n",
       "    </tr>\n",
       "    <tr>\n",
       "      <th>145</th>\n",
       "      <td>6.7</td>\n",
       "      <td>3.0</td>\n",
       "      <td>5.2</td>\n",
       "      <td>2.3</td>\n",
       "      <td>0</td>\n",
       "      <td>0</td>\n",
       "    </tr>\n",
       "    <tr>\n",
       "      <th>146</th>\n",
       "      <td>6.3</td>\n",
       "      <td>2.5</td>\n",
       "      <td>5.0</td>\n",
       "      <td>1.9</td>\n",
       "      <td>0</td>\n",
       "      <td>0</td>\n",
       "    </tr>\n",
       "    <tr>\n",
       "      <th>147</th>\n",
       "      <td>6.5</td>\n",
       "      <td>3.0</td>\n",
       "      <td>5.2</td>\n",
       "      <td>2.0</td>\n",
       "      <td>0</td>\n",
       "      <td>0</td>\n",
       "    </tr>\n",
       "    <tr>\n",
       "      <th>148</th>\n",
       "      <td>6.2</td>\n",
       "      <td>3.4</td>\n",
       "      <td>5.4</td>\n",
       "      <td>2.3</td>\n",
       "      <td>0</td>\n",
       "      <td>0</td>\n",
       "    </tr>\n",
       "    <tr>\n",
       "      <th>149</th>\n",
       "      <td>5.9</td>\n",
       "      <td>3.0</td>\n",
       "      <td>5.1</td>\n",
       "      <td>1.8</td>\n",
       "      <td>0</td>\n",
       "      <td>0</td>\n",
       "    </tr>\n",
       "  </tbody>\n",
       "</table>\n",
       "<p>150 rows × 6 columns</p>\n",
       "</div>"
      ],
      "text/plain": [
       "     sepal length (cm)  sepal width (cm)  petal length (cm)  petal width (cm)  \\\n",
       "0                  5.1               3.5                1.4               0.2   \n",
       "1                  4.9               3.0                1.4               0.2   \n",
       "2                  4.7               3.2                1.3               0.2   \n",
       "3                  4.6               3.1                1.5               0.2   \n",
       "4                  5.0               3.6                1.4               0.2   \n",
       "..                 ...               ...                ...               ...   \n",
       "145                6.7               3.0                5.2               2.3   \n",
       "146                6.3               2.5                5.0               1.9   \n",
       "147                6.5               3.0                5.2               2.0   \n",
       "148                6.2               3.4                5.4               2.3   \n",
       "149                5.9               3.0                5.1               1.8   \n",
       "\n",
       "     artificial_feature_1  artificial_feature_2  \n",
       "0                       0                     0  \n",
       "1                       0                 20657  \n",
       "2                       0                     0  \n",
       "3                       0                     0  \n",
       "4                       0                     0  \n",
       "..                    ...                   ...  \n",
       "145                     0                     0  \n",
       "146                     0                     0  \n",
       "147                     0                     0  \n",
       "148                     0                     0  \n",
       "149                     0                     0  \n",
       "\n",
       "[150 rows x 6 columns]"
      ]
     },
     "execution_count": 7,
     "metadata": {},
     "output_type": "execute_result"
    }
   ],
   "source": [
    "df"
   ]
  },
  {
   "cell_type": "code",
   "execution_count": 8,
   "metadata": {},
   "outputs": [
    {
     "data": {
      "text/plain": [
       "7"
      ]
     },
     "execution_count": 8,
     "metadata": {},
     "output_type": "execute_result"
    }
   ],
   "source": [
    "non_zero_count_feature_1 = (df['artificial_feature_1'] != 0).sum()\n",
    "non_zero_count_feature_1"
   ]
  },
  {
   "cell_type": "code",
   "execution_count": 9,
   "metadata": {},
   "outputs": [
    {
     "data": {
      "text/plain": [
       "7"
      ]
     },
     "execution_count": 9,
     "metadata": {},
     "output_type": "execute_result"
    }
   ],
   "source": [
    "non_zero_count_feature_2 = (df['artificial_feature_2'] != 0).sum()\n",
    "non_zero_count_feature_2"
   ]
  },
  {
   "cell_type": "code",
   "execution_count": 10,
   "metadata": {},
   "outputs": [],
   "source": [
    "x_data = torch.tensor(df.values)"
   ]
  },
  {
   "cell_type": "code",
   "execution_count": 11,
   "metadata": {},
   "outputs": [
    {
     "data": {
      "text/plain": [
       "torch.Size([150, 6])"
      ]
     },
     "execution_count": 11,
     "metadata": {},
     "output_type": "execute_result"
    }
   ],
   "source": [
    "x_data.shape"
   ]
  },
  {
   "cell_type": "code",
   "execution_count": 12,
   "metadata": {},
   "outputs": [],
   "source": [
    "# Create a OCSVM Classifier Class\n",
    "classifier = OneClassSVMClassifier(x_data, nu=0.14, gamma=0.3, num_inducing_points=x_data.shape[0])"
   ]
  },
  {
   "cell_type": "code",
   "execution_count": 13,
   "metadata": {},
   "outputs": [],
   "source": [
    "decision, y_pred = classifier.fit()"
   ]
  },
  {
   "cell_type": "code",
   "execution_count": 14,
   "metadata": {},
   "outputs": [
    {
     "data": {
      "text/plain": [
       "array([ 1.91000223e-01, -6.08051952e-01,  1.76441336e-01,  1.76001511e-01,\n",
       "        1.76008189e-01,  1.03311216e-01,  1.43965629e-01,  2.08197945e-01,\n",
       "        1.10553447e-01,  1.94949663e-01,  1.33727479e-01,  1.85088642e-01,\n",
       "        1.81625579e-01,  5.13926210e-06, -6.08051952e-01, -9.65111725e-02,\n",
       "       -6.08051952e-01,  2.01637415e-01,  3.27396381e-02,  1.52873309e-01,\n",
       "        1.39279522e-01,  1.76832328e-01,  2.35679198e-06,  2.11817139e-01,\n",
       "        1.28978000e-01,  2.06059618e-01,  2.20255444e-01,  1.87892715e-01,\n",
       "        1.86465304e-01, -6.08051952e-01,  2.10294616e-01,  1.60480560e-01,\n",
       "        3.47815374e-02,  3.26006017e-06,  2.17081226e-01,  1.72064835e-01,\n",
       "        9.01659525e-02,  1.45605067e-01,  9.95486364e-02,  2.04941985e-01,\n",
       "        1.88189174e-01,  6.49314624e-06,  8.33409255e-02,  1.80010487e-01,\n",
       "        9.67227971e-02,  2.12744645e-01,  1.37246057e-01,  1.64867356e-01,\n",
       "        1.52229566e-01,  2.08895041e-01, -2.22878322e-06,  1.21220206e-01,\n",
       "        1.29058667e-01,  1.81401044e-01,  1.79624838e-01,  2.07647761e-01,\n",
       "       -6.08051952e-01,  4.21890956e-02,  1.10519632e-01,  1.42017089e-01,\n",
       "        1.71401397e-06,  1.62432734e-01, -2.93825796e-06,  2.26216341e-01,\n",
       "        6.64618307e-02, -6.08051952e-01,  1.72972550e-01,  1.21368933e-01,\n",
       "        7.77182763e-02,  1.61074026e-01,  1.56616364e-01,  1.09217777e-01,\n",
       "        1.83503028e-01,  1.71264913e-01,  9.95036763e-02, -6.08051952e-01,\n",
       "        1.08978306e-01,  2.35723715e-01,  2.32428888e-01,  5.44055498e-02,\n",
       "        1.51235495e-01,  1.18438066e-01,  1.46425380e-01,  2.15017843e-01,\n",
       "        1.23106715e-01,  5.07277618e-02,  1.35564294e-01,  5.91680333e-02,\n",
       "        1.31326508e-01,  2.05002762e-01,  1.87385676e-01,  2.05147496e-01,\n",
       "        1.70422086e-01,  5.35129611e-02,  2.14738491e-01, -6.08051952e-01,\n",
       "        1.79230002e-01,  1.48638327e-01, -6.08051952e-01,  1.90222955e-01,\n",
       "        5.12261351e-06,  1.70664987e-01,  3.13328668e-01,  2.11289844e-01,\n",
       "        2.23678515e-01,  2.18078169e-01, -1.48974446e-07,  2.27943047e-01,\n",
       "        1.23359123e-01,  1.35582675e-01,  2.26014129e-01,  2.39369328e-01,\n",
       "        2.83120114e-01,  1.09797236e-01, -1.57789941e-06, -6.08051952e-01,\n",
       "        2.72076127e-01,  1.61295761e-05,  1.61614062e-05, -6.08051952e-01,\n",
       "        2.58346996e-01,  1.27082545e-01,  1.14472512e-01,  2.47795269e-01,\n",
       "        2.62562597e-01,  2.79466585e-01,  2.55727501e-01,  2.45713871e-01,\n",
       "        2.13785898e-01,  2.05159542e-01,  2.24721478e-01, -6.08051952e-01,\n",
       "        1.92768632e-01,  2.31265118e-01,  0.00000000e+00,  1.77559206e-01,\n",
       "        5.08313932e-02,  2.49095362e-01, -6.08051952e-01,  2.61675308e-01,\n",
       "        2.01837331e-01, -6.08051952e-01,  1.70664987e-01,  2.61159228e-01,\n",
       "        1.43069714e-01,  1.72390887e-01,  1.83983673e-01,  2.64851366e-01,\n",
       "        5.58075462e-02,  1.96591574e-01])"
      ]
     },
     "execution_count": 14,
     "metadata": {},
     "output_type": "execute_result"
    }
   ],
   "source": [
    "classifier.model.decision"
   ]
  },
  {
   "cell_type": "code",
   "execution_count": 15,
   "metadata": {},
   "outputs": [
    {
     "name": "stdout",
     "output_type": "stream",
     "text": [
      "{1: {'count': 130, 'percentage': 86.66666666666667}, -1: {'count': 19, 'percentage': 12.666666666666668}}\n"
     ]
    }
   ],
   "source": [
    "# Check for the number of outliers\n",
    "\n",
    "counts = {1: np.sum(y_pred == 1), -1: np.sum(y_pred == -1)}\n",
    "total = len(y_pred)\n",
    "percentages = {key: (count / total) * 100 for key, count in counts.items()}\n",
    "\n",
    "results = {key: {\"count\": counts[key], \"percentage\": percentages[key]} for key in counts}\n",
    "\n",
    "print(results)"
   ]
  },
  {
   "cell_type": "code",
   "execution_count": 16,
   "metadata": {},
   "outputs": [
    {
     "data": {
      "text/plain": [
       "[1,\n",
       " 14,\n",
       " 15,\n",
       " 16,\n",
       " 29,\n",
       " 50,\n",
       " 56,\n",
       " 62,\n",
       " 65,\n",
       " 75,\n",
       " 95,\n",
       " 98,\n",
       " 106,\n",
       " 114,\n",
       " 115,\n",
       " 119,\n",
       " 131,\n",
       " 138,\n",
       " 141]"
      ]
     },
     "execution_count": 16,
     "metadata": {},
     "output_type": "execute_result"
    }
   ],
   "source": [
    "# Outlier sample indices\n",
    "indices = [i for i, value in enumerate(y_pred) if value == -1]\n",
    "indices"
   ]
  },
  {
   "cell_type": "code",
   "execution_count": 17,
   "metadata": {},
   "outputs": [
    {
     "data": {
      "text/plain": [
       "array([ 14,  98,  75,  16, 131,  56, 141])"
      ]
     },
     "execution_count": 17,
     "metadata": {},
     "output_type": "execute_result"
    }
   ],
   "source": [
    "indices_feature_1"
   ]
  },
  {
   "cell_type": "code",
   "execution_count": 18,
   "metadata": {},
   "outputs": [
    {
     "data": {
      "text/plain": [
       "array([138,   1, 119,  65, 115,  29,  95])"
      ]
     },
     "execution_count": 18,
     "metadata": {},
     "output_type": "execute_result"
    }
   ],
   "source": [
    "indices_feature_2"
   ]
  },
  {
   "cell_type": "code",
   "execution_count": 19,
   "metadata": {},
   "outputs": [],
   "source": [
    "# Check if all points in the feature arrays are in the indices array\n",
    "all_in_indices_1 = np.all(np.isin(indices_feature_1, indices))\n",
    "all_in_indices_2 = np.all(np.isin(indices_feature_2, indices))\n",
    "\n",
    "# Find missing indices from the feature arrays\n",
    "missing_indices_1 = indices_feature_1[~np.isin(indices_feature_1, indices)]\n",
    "missing_indices_2 = indices_feature_2[~np.isin(indices_feature_2, indices)]\n",
    "\n",
    "# Calculate the total number of points in the feature arrays\n",
    "total_points_feature_1 = len(indices_feature_1)\n",
    "total_points_feature_2 = len(indices_feature_2)\n",
    "\n",
    "# Calculate the percentage of points covered\n",
    "covered_points_1 = total_points_feature_1 - len(missing_indices_1)\n",
    "covered_points_2 = total_points_feature_2 - len(missing_indices_2)\n",
    "\n",
    "percentage_covered_1 = (covered_points_1 / total_points_feature_1) * 100\n",
    "percentage_covered_2 = (covered_points_2 / total_points_feature_2) * 100"
   ]
  },
  {
   "cell_type": "code",
   "execution_count": 20,
   "metadata": {},
   "outputs": [
    {
     "name": "stdout",
     "output_type": "stream",
     "text": [
      "All indices from Feature 1 are present in the indices array.\n",
      "All indices from Feature 2 are present in the indices array.\n",
      "Percentage of points covered in Feature 1: 100.00%\n",
      "Percentage of points covered in Feature 2: 100.00%\n"
     ]
    }
   ],
   "source": [
    "if all_in_indices_1:\n",
    "    print(\"All indices from Feature 1 are present in the indices array.\")\n",
    "else:\n",
    "    print(f\"Missing indices from Feature 1: {sorted(missing_indices_1)}\")\n",
    "    \n",
    "if all_in_indices_2:\n",
    "    print(\"All indices from Feature 2 are present in the indices array.\")\n",
    "else:\n",
    "    print(f\"Missing indices from Feature 2: {sorted(missing_indices_2)}\")\n",
    "\n",
    "# Print percentage coverage\n",
    "print(f\"Percentage of points covered in Feature 1: {percentage_covered_1:.2f}%\")\n",
    "print(f\"Percentage of points covered in Feature 2: {percentage_covered_2:.2f}%\")"
   ]
  },
  {
   "cell_type": "code",
   "execution_count": 21,
   "metadata": {},
   "outputs": [
    {
     "data": {
      "text/plain": [
       "[106, 15, 50, 114, 62]"
      ]
     },
     "execution_count": 21,
     "metadata": {},
     "output_type": "execute_result"
    }
   ],
   "source": [
    "\n",
    "other_outliers = list(set(indices).difference(set(indices_feature_1).union(set(indices_feature_2))))\n",
    "other_outliers\n"
   ]
  },
  {
   "cell_type": "code",
   "execution_count": 23,
   "metadata": {},
   "outputs": [
    {
     "name": "stderr",
     "output_type": "stream",
     "text": [
      "/Users/swathisuhas/Documents/CISPA/OCSVM-SHAP/OCSVM_SHAP/src/utils/shapley_procedure/coalitions.py:19: RuntimeWarning: divide by zero encountered in log2\n",
      "  set_to_1 = np.floor(np.log2(rest)).astype(int)\n",
      "/Users/swathisuhas/Documents/CISPA/OCSVM-SHAP/OCSVM_SHAP/src/utils/shapley_procedure/coalitions.py:19: RuntimeWarning: invalid value encountered in cast\n",
      "  set_to_1 = np.floor(np.log2(rest)).astype(int)\n",
      "/Users/swathisuhas/Documents/CISPA/OCSVM-SHAP/OCSVM_SHAP/src/utils/shapley_procedure/coalitions.py:19: RuntimeWarning: invalid value encountered in log2\n",
      "  set_to_1 = np.floor(np.log2(rest)).astype(int)\n",
      "100%|██████████| 63/63 [00:14<00:00,  4.31it/s]\n"
     ]
    }
   ],
   "source": [
    "from src.explanation_algorithms.OCSVMSHAP import OCSVMSHAP\n",
    "ocsvm_shap = OCSVMSHAP(X=x_data, classifier=classifier)\n",
    "ocsvm_shap.fit_ocsvmshap(X=x_data, num_coalitions=2**x_data.shape[1])"
   ]
  },
  {
   "cell_type": "code",
   "execution_count": 24,
   "metadata": {},
   "outputs": [
    {
     "data": {
      "image/png": "[encoded data removed]",
      "text/plain": [
       "<Figure size 800x390 with 2 Axes>"
      ]
     },
     "metadata": {},
     "output_type": "display_data"
    }
   ],
   "source": [
    "from src.utils.visualisation.deterministic_values import summary_plot, bar_plot, violin_plot\n",
    "mean_stochastic_shapley_values = ocsvm_shap.return_deterministic_shapley_values()\n",
    "summary_plot(mean_stochastic_shapley_values, x_data, feature_names=feature_names)\n",
    "plt.xlabel(\"Mean Stochastic Shapley values\")\n",
    "plt.show()"
   ]
  },
  {
   "cell_type": "markdown",
   "metadata": {},
   "source": [
    "Problems encountered previously has been resolved by using random numbers between 10,000 to 50,000 instead of a constant 10,000"
   ]
  },
  {
   "cell_type": "code",
   "execution_count": 25,
   "metadata": {},
   "outputs": [
    {
     "name": "stderr",
     "output_type": "stream",
     "text": [
      "/Users/swathisuhas/Documents/CISPA/OCSVM-SHAP/OCSVM_SHAP/src/utils/visualisation/deterministic_values.py:25: UserWarning: The use of `x.T` on tensors of dimension other than 2 to reverse their shape is deprecated and it will throw an error in a future release. Consider `x.mT` to transpose batches of matrices or `x.permute(*torch.arange(x.ndim - 1, -1, -1))` to reverse the dimensions of a tensor. (Triggered internally at /Users/runner/work/_temp/anaconda/conda-bld/pytorch_1708025535429/work/aten/src/ATen/native/TensorShape.cpp:3641.)\n",
      "  return shap.bar_plot(shapley_values.T.numpy(), query_data.numpy(), show=False,\n"
     ]
    },
    {
     "data": {
      "image/png": "[encoded data removed]",
      "text/plain": [
       "<Figure size 640x480 with 1 Axes>"
      ]
     },
     "metadata": {},
     "output_type": "display_data"
    },
    {
     "data": {
      "image/png": "[encoded data removed]",
      "text/plain": [
       "<Figure size 640x480 with 1 Axes>"
      ]
     },
     "metadata": {},
     "output_type": "display_data"
    },
    {
     "data": {
      "image/png": "[encoded data removed]",
      "text/plain": [
       "<Figure size 640x480 with 1 Axes>"
      ]
     },
     "metadata": {},
     "output_type": "display_data"
    },
    {
     "data": {
      "image/png": "[encoded data removed]",
      "text/plain": [
       "<Figure size 640x480 with 1 Axes>"
      ]
     },
     "metadata": {},
     "output_type": "display_data"
    },
    {
     "data": {
      "image/png": "[encoded data removed]",
      "text/plain": [
       "<Figure size 640x480 with 1 Axes>"
      ]
     },
     "metadata": {},
     "output_type": "display_data"
    }
   ],
   "source": [
    "# Bar plot to dipict the contributiion of each feature for the other outliers\n",
    "for i in other_outliers:\n",
    "    plt.figure()  \n",
    "    bar_plot(mean_stochastic_shapley_values.T[i], x_data[i], feature_names=feature_names)\n",
    "    plt.title(f'Shapley Values for Data Point Index {i}')\n",
    "    plt.show() "
   ]
  },
  {
   "cell_type": "markdown",
   "metadata": {},
   "source": [
    "All outliers from the picked sample has been recognized along with a few other outliers."
   ]
  },
  {
   "cell_type": "markdown",
   "metadata": {},
   "source": [
    "## Experiment 2.2\n",
    "\n",
    "Let us try to use a larger dataset. \n",
    "Consider the Wine Quality dataset from the UCI Machine Learning Repository"
   ]
  },
  {
   "cell_type": "code",
   "execution_count": 26,
   "metadata": {},
   "outputs": [
    {
     "data": {
      "text/plain": [
       "Index(['fixed acidity', 'volatile acidity', 'citric acid', 'residual sugar',\n",
       "       'chlorides', 'free sulfur dioxide', 'total sulfur dioxide', 'density',\n",
       "       'pH', 'sulphates', 'alcohol', 'quality'],\n",
       "      dtype='object')"
      ]
     },
     "execution_count": 26,
     "metadata": {},
     "output_type": "execute_result"
    }
   ],
   "source": [
    "url = 'https://archive.ics.uci.edu/ml/machine-learning-databases/wine-quality/winequality-red.csv'\n",
    "wine_data = pd.read_csv(url, sep=';')\n",
    "wine_data.columns"
   ]
  },
  {
   "cell_type": "code",
   "execution_count": 27,
   "metadata": {},
   "outputs": [
    {
     "data": {
      "text/html": [
       "<div>\n",
       "<style scoped>\n",
       "    .dataframe tbody tr th:only-of-type {\n",
       "        vertical-align: middle;\n",
       "    }\n",
       "\n",
       "    .dataframe tbody tr th {\n",
       "        vertical-align: top;\n",
       "    }\n",
       "\n",
       "    .dataframe thead th {\n",
       "        text-align: right;\n",
       "    }\n",
       "</style>\n",
       "<table border=\"1\" class=\"dataframe\">\n",
       "  <thead>\n",
       "    <tr style=\"text-align: right;\">\n",
       "      <th></th>\n",
       "      <th>alcohol</th>\n",
       "      <th>volatile acidity</th>\n",
       "      <th>fixed acidity</th>\n",
       "      <th>pH</th>\n",
       "    </tr>\n",
       "  </thead>\n",
       "  <tbody>\n",
       "    <tr>\n",
       "      <th>0</th>\n",
       "      <td>9.4</td>\n",
       "      <td>0.700</td>\n",
       "      <td>7.4</td>\n",
       "      <td>3.51</td>\n",
       "    </tr>\n",
       "    <tr>\n",
       "      <th>1</th>\n",
       "      <td>9.8</td>\n",
       "      <td>0.880</td>\n",
       "      <td>7.8</td>\n",
       "      <td>3.20</td>\n",
       "    </tr>\n",
       "    <tr>\n",
       "      <th>2</th>\n",
       "      <td>9.8</td>\n",
       "      <td>0.760</td>\n",
       "      <td>7.8</td>\n",
       "      <td>3.26</td>\n",
       "    </tr>\n",
       "    <tr>\n",
       "      <th>3</th>\n",
       "      <td>9.8</td>\n",
       "      <td>0.280</td>\n",
       "      <td>11.2</td>\n",
       "      <td>3.16</td>\n",
       "    </tr>\n",
       "    <tr>\n",
       "      <th>4</th>\n",
       "      <td>9.4</td>\n",
       "      <td>0.700</td>\n",
       "      <td>7.4</td>\n",
       "      <td>3.51</td>\n",
       "    </tr>\n",
       "    <tr>\n",
       "      <th>...</th>\n",
       "      <td>...</td>\n",
       "      <td>...</td>\n",
       "      <td>...</td>\n",
       "      <td>...</td>\n",
       "    </tr>\n",
       "    <tr>\n",
       "      <th>1594</th>\n",
       "      <td>10.5</td>\n",
       "      <td>0.600</td>\n",
       "      <td>6.2</td>\n",
       "      <td>3.45</td>\n",
       "    </tr>\n",
       "    <tr>\n",
       "      <th>1595</th>\n",
       "      <td>11.2</td>\n",
       "      <td>0.550</td>\n",
       "      <td>5.9</td>\n",
       "      <td>3.52</td>\n",
       "    </tr>\n",
       "    <tr>\n",
       "      <th>1596</th>\n",
       "      <td>11.0</td>\n",
       "      <td>0.510</td>\n",
       "      <td>6.3</td>\n",
       "      <td>3.42</td>\n",
       "    </tr>\n",
       "    <tr>\n",
       "      <th>1597</th>\n",
       "      <td>10.2</td>\n",
       "      <td>0.645</td>\n",
       "      <td>5.9</td>\n",
       "      <td>3.57</td>\n",
       "    </tr>\n",
       "    <tr>\n",
       "      <th>1598</th>\n",
       "      <td>11.0</td>\n",
       "      <td>0.310</td>\n",
       "      <td>6.0</td>\n",
       "      <td>3.39</td>\n",
       "    </tr>\n",
       "  </tbody>\n",
       "</table>\n",
       "<p>1599 rows × 4 columns</p>\n",
       "</div>"
      ],
      "text/plain": [
       "      alcohol  volatile acidity  fixed acidity    pH\n",
       "0         9.4             0.700            7.4  3.51\n",
       "1         9.8             0.880            7.8  3.20\n",
       "2         9.8             0.760            7.8  3.26\n",
       "3         9.8             0.280           11.2  3.16\n",
       "4         9.4             0.700            7.4  3.51\n",
       "...       ...               ...            ...   ...\n",
       "1594     10.5             0.600            6.2  3.45\n",
       "1595     11.2             0.550            5.9  3.52\n",
       "1596     11.0             0.510            6.3  3.42\n",
       "1597     10.2             0.645            5.9  3.57\n",
       "1598     11.0             0.310            6.0  3.39\n",
       "\n",
       "[1599 rows x 4 columns]"
      ]
     },
     "execution_count": 27,
     "metadata": {},
     "output_type": "execute_result"
    }
   ],
   "source": [
    "selected_columns = wine_data[['alcohol', 'volatile acidity', 'fixed acidity', 'pH']]\n",
    "selected_columns"
   ]
  },
  {
   "cell_type": "markdown",
   "metadata": {},
   "source": [
    "We will also add 2 other features called artificial_feature_1 and arificial_feature_2 with custom values. \n",
    "\n",
    "For 5% of the data samples, we give an extremely large value of artificial_feature_1 and for another 5% of the data samples, an extremely large value of artificial_feature_2. Rest of the samples have value between 1 and 5 for these features. \n",
    "\n",
    "We will define the process of explaning an outlier as the process of identifying the right feature(s) that makes the data sample an outlier.\n",
    "\n",
    "Given this scenario, we expect artificial_feature_1 to be the explanation when a data sample from the first 5% of data is chosen. Simillarly, artificial_feature_1 as the explanation when any data sample from the second 5% data is chosen. "
   ]
  },
  {
   "cell_type": "code",
   "execution_count": 28,
   "metadata": {},
   "outputs": [
    {
     "name": "stderr",
     "output_type": "stream",
     "text": [
      "/var/folders/nc/fpcwd8ds6s914d4dyyfph28m0000gp/T/ipykernel_12853/241064448.py:5: SettingWithCopyWarning: \n",
      "A value is trying to be set on a copy of a slice from a DataFrame.\n",
      "Try using .loc[row_indexer,col_indexer] = value instead\n",
      "\n",
      "See the caveats in the documentation: https://pandas.pydata.org/pandas-docs/stable/user_guide/indexing.html#returning-a-view-versus-a-copy\n",
      "  selected_columns['artificial_feature_1'] = np.random.randint(1, 6, size=len(selected_columns))\n",
      "/var/folders/nc/fpcwd8ds6s914d4dyyfph28m0000gp/T/ipykernel_12853/241064448.py:6: SettingWithCopyWarning: \n",
      "A value is trying to be set on a copy of a slice from a DataFrame.\n",
      "Try using .loc[row_indexer,col_indexer] = value instead\n",
      "\n",
      "See the caveats in the documentation: https://pandas.pydata.org/pandas-docs/stable/user_guide/indexing.html#returning-a-view-versus-a-copy\n",
      "  selected_columns['artificial_feature_2'] = np.random.randint(1, 6, size=len(selected_columns))\n"
     ]
    },
    {
     "data": {
      "text/html": [
       "<div>\n",
       "<style scoped>\n",
       "    .dataframe tbody tr th:only-of-type {\n",
       "        vertical-align: middle;\n",
       "    }\n",
       "\n",
       "    .dataframe tbody tr th {\n",
       "        vertical-align: top;\n",
       "    }\n",
       "\n",
       "    .dataframe thead th {\n",
       "        text-align: right;\n",
       "    }\n",
       "</style>\n",
       "<table border=\"1\" class=\"dataframe\">\n",
       "  <thead>\n",
       "    <tr style=\"text-align: right;\">\n",
       "      <th></th>\n",
       "      <th>alcohol</th>\n",
       "      <th>volatile acidity</th>\n",
       "      <th>fixed acidity</th>\n",
       "      <th>pH</th>\n",
       "      <th>artificial_feature_1</th>\n",
       "      <th>artificial_feature_2</th>\n",
       "    </tr>\n",
       "  </thead>\n",
       "  <tbody>\n",
       "    <tr>\n",
       "      <th>0</th>\n",
       "      <td>9.4</td>\n",
       "      <td>0.700</td>\n",
       "      <td>7.4</td>\n",
       "      <td>3.51</td>\n",
       "      <td>5</td>\n",
       "      <td>2</td>\n",
       "    </tr>\n",
       "    <tr>\n",
       "      <th>1</th>\n",
       "      <td>9.8</td>\n",
       "      <td>0.880</td>\n",
       "      <td>7.8</td>\n",
       "      <td>3.20</td>\n",
       "      <td>1</td>\n",
       "      <td>1</td>\n",
       "    </tr>\n",
       "    <tr>\n",
       "      <th>2</th>\n",
       "      <td>9.8</td>\n",
       "      <td>0.760</td>\n",
       "      <td>7.8</td>\n",
       "      <td>3.26</td>\n",
       "      <td>4</td>\n",
       "      <td>1</td>\n",
       "    </tr>\n",
       "    <tr>\n",
       "      <th>3</th>\n",
       "      <td>9.8</td>\n",
       "      <td>0.280</td>\n",
       "      <td>11.2</td>\n",
       "      <td>3.16</td>\n",
       "      <td>2</td>\n",
       "      <td>5</td>\n",
       "    </tr>\n",
       "    <tr>\n",
       "      <th>4</th>\n",
       "      <td>9.4</td>\n",
       "      <td>0.700</td>\n",
       "      <td>7.4</td>\n",
       "      <td>3.51</td>\n",
       "      <td>5</td>\n",
       "      <td>5</td>\n",
       "    </tr>\n",
       "    <tr>\n",
       "      <th>...</th>\n",
       "      <td>...</td>\n",
       "      <td>...</td>\n",
       "      <td>...</td>\n",
       "      <td>...</td>\n",
       "      <td>...</td>\n",
       "      <td>...</td>\n",
       "    </tr>\n",
       "    <tr>\n",
       "      <th>1594</th>\n",
       "      <td>10.5</td>\n",
       "      <td>0.600</td>\n",
       "      <td>6.2</td>\n",
       "      <td>3.45</td>\n",
       "      <td>4</td>\n",
       "      <td>5</td>\n",
       "    </tr>\n",
       "    <tr>\n",
       "      <th>1595</th>\n",
       "      <td>11.2</td>\n",
       "      <td>0.550</td>\n",
       "      <td>5.9</td>\n",
       "      <td>3.52</td>\n",
       "      <td>1</td>\n",
       "      <td>2</td>\n",
       "    </tr>\n",
       "    <tr>\n",
       "      <th>1596</th>\n",
       "      <td>11.0</td>\n",
       "      <td>0.510</td>\n",
       "      <td>6.3</td>\n",
       "      <td>3.42</td>\n",
       "      <td>4</td>\n",
       "      <td>4</td>\n",
       "    </tr>\n",
       "    <tr>\n",
       "      <th>1597</th>\n",
       "      <td>10.2</td>\n",
       "      <td>0.645</td>\n",
       "      <td>5.9</td>\n",
       "      <td>3.57</td>\n",
       "      <td>1</td>\n",
       "      <td>4</td>\n",
       "    </tr>\n",
       "    <tr>\n",
       "      <th>1598</th>\n",
       "      <td>11.0</td>\n",
       "      <td>0.310</td>\n",
       "      <td>6.0</td>\n",
       "      <td>3.39</td>\n",
       "      <td>1</td>\n",
       "      <td>3</td>\n",
       "    </tr>\n",
       "  </tbody>\n",
       "</table>\n",
       "<p>1599 rows × 6 columns</p>\n",
       "</div>"
      ],
      "text/plain": [
       "      alcohol  volatile acidity  fixed acidity    pH  artificial_feature_1  \\\n",
       "0         9.4             0.700            7.4  3.51                     5   \n",
       "1         9.8             0.880            7.8  3.20                     1   \n",
       "2         9.8             0.760            7.8  3.26                     4   \n",
       "3         9.8             0.280           11.2  3.16                     2   \n",
       "4         9.4             0.700            7.4  3.51                     5   \n",
       "...       ...               ...            ...   ...                   ...   \n",
       "1594     10.5             0.600            6.2  3.45                     4   \n",
       "1595     11.2             0.550            5.9  3.52                     1   \n",
       "1596     11.0             0.510            6.3  3.42                     4   \n",
       "1597     10.2             0.645            5.9  3.57                     1   \n",
       "1598     11.0             0.310            6.0  3.39                     1   \n",
       "\n",
       "      artificial_feature_2  \n",
       "0                        2  \n",
       "1                        1  \n",
       "2                        1  \n",
       "3                        5  \n",
       "4                        5  \n",
       "...                    ...  \n",
       "1594                     5  \n",
       "1595                     2  \n",
       "1596                     4  \n",
       "1597                     4  \n",
       "1598                     3  \n",
       "\n",
       "[1599 rows x 6 columns]"
      ]
     },
     "execution_count": 28,
     "metadata": {},
     "output_type": "execute_result"
    }
   ],
   "source": [
    "# Set random seed for reproducibility\n",
    "np.random.seed(9)\n",
    "\n",
    "# Initialize the new features\n",
    "selected_columns['artificial_feature_1'] = np.random.randint(1, 6, size=len(selected_columns))\n",
    "selected_columns['artificial_feature_2'] = np.random.randint(1, 6, size=len(selected_columns))\n",
    "\n",
    "selected_columns"
   ]
  },
  {
   "cell_type": "code",
   "execution_count": 29,
   "metadata": {},
   "outputs": [
    {
     "data": {
      "text/plain": [
       "79"
      ]
     },
     "execution_count": 29,
     "metadata": {},
     "output_type": "execute_result"
    }
   ],
   "source": [
    "# Calculate the number of samples\n",
    "num_samples = selected_columns.shape[0]\n",
    "num_samples_to_modify = int(num_samples * 0.05)\n",
    "num_samples_to_modify"
   ]
  },
  {
   "cell_type": "code",
   "execution_count": 30,
   "metadata": {},
   "outputs": [
    {
     "data": {
      "text/plain": [
       "['alcohol',\n",
       " 'volatile acidity',\n",
       " 'fixed acidity',\n",
       " 'pH',\n",
       " 'artificial_feature_1',\n",
       " 'artificial_feature_2']"
      ]
     },
     "execution_count": 30,
     "metadata": {},
     "output_type": "execute_result"
    }
   ],
   "source": [
    "feature_names = selected_columns.columns.tolist()\n",
    "feature_names"
   ]
  },
  {
   "cell_type": "code",
   "execution_count": 31,
   "metadata": {},
   "outputs": [],
   "source": [
    "# Randomly select 5% of the indices for artificial_feature_1\n",
    "indices_feature_1 = np.random.choice(selected_columns.index, size=num_samples_to_modify, replace=False)\n",
    "\n",
    "# Assign a large value to artificial_feature_1 for these indices\n",
    "selected_columns.loc[indices_feature_1, 'artificial_feature_1'] = np.random.randint(10000, 50001, size=len(indices_feature_1))"
   ]
  },
  {
   "cell_type": "code",
   "execution_count": 32,
   "metadata": {},
   "outputs": [],
   "source": [
    "# Randomly select 5% of the indices for artificial_feature_2, ensuring no overlap\n",
    "remaining_indices = np.setdiff1d(selected_columns.index, indices_feature_1)\n",
    "indices_feature_2 = np.random.choice(remaining_indices, size=num_samples_to_modify, replace=False)\n",
    "\n",
    "# Assign a large value to artificial_feature_2 for these indices\n",
    "selected_columns.loc[indices_feature_2, 'artificial_feature_2'] = np.random.randint(10000, 50001, size=len(indices_feature_2))"
   ]
  },
  {
   "cell_type": "code",
   "execution_count": 33,
   "metadata": {},
   "outputs": [
    {
     "data": {
      "text/html": [
       "<div>\n",
       "<style scoped>\n",
       "    .dataframe tbody tr th:only-of-type {\n",
       "        vertical-align: middle;\n",
       "    }\n",
       "\n",
       "    .dataframe tbody tr th {\n",
       "        vertical-align: top;\n",
       "    }\n",
       "\n",
       "    .dataframe thead th {\n",
       "        text-align: right;\n",
       "    }\n",
       "</style>\n",
       "<table border=\"1\" class=\"dataframe\">\n",
       "  <thead>\n",
       "    <tr style=\"text-align: right;\">\n",
       "      <th></th>\n",
       "      <th>alcohol</th>\n",
       "      <th>volatile acidity</th>\n",
       "      <th>fixed acidity</th>\n",
       "      <th>pH</th>\n",
       "      <th>artificial_feature_1</th>\n",
       "      <th>artificial_feature_2</th>\n",
       "    </tr>\n",
       "  </thead>\n",
       "  <tbody>\n",
       "    <tr>\n",
       "      <th>0</th>\n",
       "      <td>9.4</td>\n",
       "      <td>0.700</td>\n",
       "      <td>7.4</td>\n",
       "      <td>3.51</td>\n",
       "      <td>5</td>\n",
       "      <td>2</td>\n",
       "    </tr>\n",
       "    <tr>\n",
       "      <th>1</th>\n",
       "      <td>9.8</td>\n",
       "      <td>0.880</td>\n",
       "      <td>7.8</td>\n",
       "      <td>3.20</td>\n",
       "      <td>1</td>\n",
       "      <td>1</td>\n",
       "    </tr>\n",
       "    <tr>\n",
       "      <th>2</th>\n",
       "      <td>9.8</td>\n",
       "      <td>0.760</td>\n",
       "      <td>7.8</td>\n",
       "      <td>3.26</td>\n",
       "      <td>4</td>\n",
       "      <td>1</td>\n",
       "    </tr>\n",
       "    <tr>\n",
       "      <th>3</th>\n",
       "      <td>9.8</td>\n",
       "      <td>0.280</td>\n",
       "      <td>11.2</td>\n",
       "      <td>3.16</td>\n",
       "      <td>2</td>\n",
       "      <td>5</td>\n",
       "    </tr>\n",
       "    <tr>\n",
       "      <th>4</th>\n",
       "      <td>9.4</td>\n",
       "      <td>0.700</td>\n",
       "      <td>7.4</td>\n",
       "      <td>3.51</td>\n",
       "      <td>5</td>\n",
       "      <td>5</td>\n",
       "    </tr>\n",
       "    <tr>\n",
       "      <th>...</th>\n",
       "      <td>...</td>\n",
       "      <td>...</td>\n",
       "      <td>...</td>\n",
       "      <td>...</td>\n",
       "      <td>...</td>\n",
       "      <td>...</td>\n",
       "    </tr>\n",
       "    <tr>\n",
       "      <th>1594</th>\n",
       "      <td>10.5</td>\n",
       "      <td>0.600</td>\n",
       "      <td>6.2</td>\n",
       "      <td>3.45</td>\n",
       "      <td>4</td>\n",
       "      <td>46495</td>\n",
       "    </tr>\n",
       "    <tr>\n",
       "      <th>1595</th>\n",
       "      <td>11.2</td>\n",
       "      <td>0.550</td>\n",
       "      <td>5.9</td>\n",
       "      <td>3.52</td>\n",
       "      <td>1</td>\n",
       "      <td>2</td>\n",
       "    </tr>\n",
       "    <tr>\n",
       "      <th>1596</th>\n",
       "      <td>11.0</td>\n",
       "      <td>0.510</td>\n",
       "      <td>6.3</td>\n",
       "      <td>3.42</td>\n",
       "      <td>4</td>\n",
       "      <td>4</td>\n",
       "    </tr>\n",
       "    <tr>\n",
       "      <th>1597</th>\n",
       "      <td>10.2</td>\n",
       "      <td>0.645</td>\n",
       "      <td>5.9</td>\n",
       "      <td>3.57</td>\n",
       "      <td>1</td>\n",
       "      <td>4</td>\n",
       "    </tr>\n",
       "    <tr>\n",
       "      <th>1598</th>\n",
       "      <td>11.0</td>\n",
       "      <td>0.310</td>\n",
       "      <td>6.0</td>\n",
       "      <td>3.39</td>\n",
       "      <td>1</td>\n",
       "      <td>32892</td>\n",
       "    </tr>\n",
       "  </tbody>\n",
       "</table>\n",
       "<p>1599 rows × 6 columns</p>\n",
       "</div>"
      ],
      "text/plain": [
       "      alcohol  volatile acidity  fixed acidity    pH  artificial_feature_1  \\\n",
       "0         9.4             0.700            7.4  3.51                     5   \n",
       "1         9.8             0.880            7.8  3.20                     1   \n",
       "2         9.8             0.760            7.8  3.26                     4   \n",
       "3         9.8             0.280           11.2  3.16                     2   \n",
       "4         9.4             0.700            7.4  3.51                     5   \n",
       "...       ...               ...            ...   ...                   ...   \n",
       "1594     10.5             0.600            6.2  3.45                     4   \n",
       "1595     11.2             0.550            5.9  3.52                     1   \n",
       "1596     11.0             0.510            6.3  3.42                     4   \n",
       "1597     10.2             0.645            5.9  3.57                     1   \n",
       "1598     11.0             0.310            6.0  3.39                     1   \n",
       "\n",
       "      artificial_feature_2  \n",
       "0                        2  \n",
       "1                        1  \n",
       "2                        1  \n",
       "3                        5  \n",
       "4                        5  \n",
       "...                    ...  \n",
       "1594                 46495  \n",
       "1595                     2  \n",
       "1596                     4  \n",
       "1597                     4  \n",
       "1598                 32892  \n",
       "\n",
       "[1599 rows x 6 columns]"
      ]
     },
     "execution_count": 33,
     "metadata": {},
     "output_type": "execute_result"
    }
   ],
   "source": [
    "selected_columns"
   ]
  },
  {
   "cell_type": "code",
   "execution_count": 34,
   "metadata": {},
   "outputs": [
    {
     "data": {
      "text/plain": [
       "79"
      ]
     },
     "execution_count": 34,
     "metadata": {},
     "output_type": "execute_result"
    }
   ],
   "source": [
    "non_zero_count_feature_1 = (selected_columns['artificial_feature_1'] > 5).sum()\n",
    "non_zero_count_feature_1"
   ]
  },
  {
   "cell_type": "code",
   "execution_count": 35,
   "metadata": {},
   "outputs": [
    {
     "data": {
      "text/plain": [
       "79"
      ]
     },
     "execution_count": 35,
     "metadata": {},
     "output_type": "execute_result"
    }
   ],
   "source": [
    "non_zero_count_feature_2 = (selected_columns['artificial_feature_2'] > 5).sum()\n",
    "non_zero_count_feature_2"
   ]
  },
  {
   "cell_type": "code",
   "execution_count": 36,
   "metadata": {},
   "outputs": [],
   "source": [
    "x_data = torch.tensor(selected_columns.values)"
   ]
  },
  {
   "cell_type": "code",
   "execution_count": 37,
   "metadata": {},
   "outputs": [
    {
     "data": {
      "text/plain": [
       "torch.Size([1599, 6])"
      ]
     },
     "execution_count": 37,
     "metadata": {},
     "output_type": "execute_result"
    }
   ],
   "source": [
    "x_data.shape"
   ]
  },
  {
   "cell_type": "code",
   "execution_count": 38,
   "metadata": {},
   "outputs": [],
   "source": [
    "classifier = OneClassSVMClassifier(x_data, nu=0.14, gamma=0.3, num_inducing_points=x_data.shape[0])"
   ]
  },
  {
   "cell_type": "code",
   "execution_count": 39,
   "metadata": {},
   "outputs": [],
   "source": [
    "decision, y_pred = classifier.fit()"
   ]
  },
  {
   "cell_type": "code",
   "execution_count": 40,
   "metadata": {},
   "outputs": [
    {
     "name": "stdout",
     "output_type": "stream",
     "text": [
      "{1: {'count': 1414, 'percentage': 88.43026891807379}, -1: {'count': 184, 'percentage': 11.507191994996873}}\n"
     ]
    }
   ],
   "source": [
    "counts = {1: np.sum(y_pred == 1), -1: np.sum(y_pred == -1)}\n",
    "total = len(y_pred)\n",
    "percentages = {key: (count / total) * 100 for key, count in counts.items()}\n",
    "\n",
    "results = {key: {\"count\": counts[key], \"percentage\": percentages[key]} for key in counts}\n",
    "\n",
    "print(results)"
   ]
  },
  {
   "cell_type": "code",
   "execution_count": 41,
   "metadata": {},
   "outputs": [
    {
     "data": {
      "text/plain": [
       "[30,\n",
       " 31,\n",
       " 34,\n",
       " 37,\n",
       " 46,\n",
       " 50,\n",
       " 55,\n",
       " 59,\n",
       " 60,\n",
       " 61,\n",
       " 63,\n",
       " 97,\n",
       " 125,\n",
       " 144,\n",
       " 147,\n",
       " 151,\n",
       " 162,\n",
       " 166,\n",
       " 167,\n",
       " 168,\n",
       " 177,\n",
       " 186,\n",
       " 191,\n",
       " 198,\n",
       " 200,\n",
       " 208,\n",
       " 243,\n",
       " 244,\n",
       " 248,\n",
       " 249,\n",
       " 257,\n",
       " 277,\n",
       " 288,\n",
       " 290,\n",
       " 299,\n",
       " 307,\n",
       " 314,\n",
       " 316,\n",
       " 319,\n",
       " 336,\n",
       " 347,\n",
       " 353,\n",
       " 389,\n",
       " 396,\n",
       " 404,\n",
       " 415,\n",
       " 420,\n",
       " 424,\n",
       " 427,\n",
       " 429,\n",
       " 437,\n",
       " 447,\n",
       " 459,\n",
       " 467,\n",
       " 477,\n",
       " 487,\n",
       " 494,\n",
       " 497,\n",
       " 498,\n",
       " 501,\n",
       " 543,\n",
       " 544,\n",
       " 554,\n",
       " 555,\n",
       " 557,\n",
       " 559,\n",
       " 564,\n",
       " 568,\n",
       " 578,\n",
       " 588,\n",
       " 593,\n",
       " 597,\n",
       " 603,\n",
       " 611,\n",
       " 614,\n",
       " 620,\n",
       " 644,\n",
       " 652,\n",
       " 653,\n",
       " 657,\n",
       " 663,\n",
       " 669,\n",
       " 673,\n",
       " 690,\n",
       " 703,\n",
       " 714,\n",
       " 716,\n",
       " 726,\n",
       " 727,\n",
       " 740,\n",
       " 751,\n",
       " 767,\n",
       " 806,\n",
       " 821,\n",
       " 827,\n",
       " 832,\n",
       " 846,\n",
       " 852,\n",
       " 856,\n",
       " 859,\n",
       " 863,\n",
       " 868,\n",
       " 869,\n",
       " 873,\n",
       " 885,\n",
       " 887,\n",
       " 909,\n",
       " 924,\n",
       " 933,\n",
       " 936,\n",
       " 954,\n",
       " 967,\n",
       " 979,\n",
       " 989,\n",
       " 1004,\n",
       " 1015,\n",
       " 1018,\n",
       " 1034,\n",
       " 1036,\n",
       " 1051,\n",
       " 1058,\n",
       " 1064,\n",
       " 1069,\n",
       " 1071,\n",
       " 1078,\n",
       " 1088,\n",
       " 1092,\n",
       " 1097,\n",
       " 1106,\n",
       " 1113,\n",
       " 1125,\n",
       " 1127,\n",
       " 1173,\n",
       " 1198,\n",
       " 1205,\n",
       " 1208,\n",
       " 1209,\n",
       " 1223,\n",
       " 1227,\n",
       " 1235,\n",
       " 1258,\n",
       " 1270,\n",
       " 1284,\n",
       " 1286,\n",
       " 1302,\n",
       " 1327,\n",
       " 1328,\n",
       " 1331,\n",
       " 1332,\n",
       " 1343,\n",
       " 1348,\n",
       " 1349,\n",
       " 1357,\n",
       " 1365,\n",
       " 1368,\n",
       " 1370,\n",
       " 1381,\n",
       " 1383,\n",
       " 1384,\n",
       " 1407,\n",
       " 1412,\n",
       " 1415,\n",
       " 1418,\n",
       " 1433,\n",
       " 1435,\n",
       " 1444,\n",
       " 1452,\n",
       " 1453,\n",
       " 1456,\n",
       " 1461,\n",
       " 1469,\n",
       " 1498,\n",
       " 1501,\n",
       " 1505,\n",
       " 1517,\n",
       " 1518,\n",
       " 1531,\n",
       " 1542,\n",
       " 1546,\n",
       " 1563,\n",
       " 1571,\n",
       " 1582,\n",
       " 1594,\n",
       " 1598]"
      ]
     },
     "execution_count": 41,
     "metadata": {},
     "output_type": "execute_result"
    }
   ],
   "source": [
    "indices = [i for i, value in enumerate(y_pred) if value == -1]\n",
    "indices"
   ]
  },
  {
   "cell_type": "code",
   "execution_count": 42,
   "metadata": {},
   "outputs": [
    {
     "data": {
      "text/plain": [
       "tensor([[1.0100e+01, 6.7500e-01, 6.7000e+00, 3.3500e+00, 2.0000e+00, 2.2162e+04],\n",
       "        [1.0600e+01, 6.8500e-01, 6.9000e+00, 3.4600e+00, 3.7382e+04, 2.0000e+00],\n",
       "        [9.2000e+00, 3.2000e-01, 5.2000e+00, 3.3800e+00, 1.0000e+00, 5.0000e+00],\n",
       "        ...,\n",
       "        [1.1900e+01, 7.1500e-01, 6.1000e+00, 3.5700e+00, 1.0000e+00, 4.7630e+04],\n",
       "        [1.0500e+01, 6.0000e-01, 6.2000e+00, 3.4500e+00, 4.0000e+00, 4.6495e+04],\n",
       "        [1.1000e+01, 3.1000e-01, 6.0000e+00, 3.3900e+00, 1.0000e+00, 3.2892e+04]],\n",
       "       dtype=torch.float64)"
      ]
     },
     "execution_count": 42,
     "metadata": {},
     "output_type": "execute_result"
    }
   ],
   "source": [
    "outlier_features = x_data[indices]\n",
    "outlier_features"
   ]
  },
  {
   "cell_type": "code",
   "execution_count": 43,
   "metadata": {},
   "outputs": [],
   "source": [
    "# Check if all points in the feature arrays are in the indices array\n",
    "all_in_indices_1 = np.all(np.isin(indices_feature_1, indices))\n",
    "all_in_indices_2 = np.all(np.isin(indices_feature_2, indices))\n",
    "\n",
    "# Find missing indices from the feature arrays\n",
    "missing_indices_1 = indices_feature_1[~np.isin(indices_feature_1, indices)]\n",
    "missing_indices_2 = indices_feature_2[~np.isin(indices_feature_2, indices)]\n",
    "\n",
    "# Calculate the total number of points in the feature arrays\n",
    "total_points_feature_1 = len(indices_feature_1)\n",
    "total_points_feature_2 = len(indices_feature_2)\n",
    "\n",
    "# Calculate the percentage of points covered\n",
    "covered_points_1 = total_points_feature_1 - len(missing_indices_1)\n",
    "covered_points_2 = total_points_feature_2 - len(missing_indices_2)\n",
    "\n",
    "percentage_covered_1 = (covered_points_1 / total_points_feature_1) * 100\n",
    "percentage_covered_2 = (covered_points_2 / total_points_feature_2) * 100"
   ]
  },
  {
   "cell_type": "code",
   "execution_count": 44,
   "metadata": {},
   "outputs": [
    {
     "name": "stdout",
     "output_type": "stream",
     "text": [
      "All indices from Feature 1 are present in the indices array.\n",
      "All indices from Feature 2 are present in the indices array.\n",
      "Percentage of points covered in Feature 1: 100.00%\n",
      "Percentage of points covered in Feature 2: 100.00%\n"
     ]
    }
   ],
   "source": [
    "if all_in_indices_1:\n",
    "    print(\"All indices from Feature 1 are present in the indices array.\")\n",
    "else:\n",
    "    print(f\"Missing indices from Feature 1: {sorted(missing_indices_1)}\")\n",
    "    \n",
    "if all_in_indices_2:\n",
    "    print(\"All indices from Feature 2 are present in the indices array.\")\n",
    "else:\n",
    "    print(f\"Missing indices from Feature 2: {sorted(missing_indices_2)}\")\n",
    "\n",
    "# Print percentage coverage\n",
    "print(f\"Percentage of points covered in Feature 1: {percentage_covered_1:.2f}%\")\n",
    "print(f\"Percentage of points covered in Feature 2: {percentage_covered_2:.2f}%\")"
   ]
  },
  {
   "cell_type": "code",
   "execution_count": 45,
   "metadata": {},
   "outputs": [
    {
     "data": {
      "text/plain": [
       "79"
      ]
     },
     "execution_count": 45,
     "metadata": {},
     "output_type": "execute_result"
    }
   ],
   "source": [
    "common_indices_1 = np.intersect1d(indices_feature_1, indices)\n",
    "len(common_indices_1)"
   ]
  },
  {
   "cell_type": "code",
   "execution_count": 46,
   "metadata": {},
   "outputs": [],
   "source": [
    "from src.explanation_algorithms.OCSVMSHAP import OCSVMSHAP\n",
    "ocsvm_shap = OCSVMSHAP(X=x_data, classifier=classifier)"
   ]
  },
  {
   "cell_type": "code",
   "execution_count": 47,
   "metadata": {},
   "outputs": [
    {
     "name": "stderr",
     "output_type": "stream",
     "text": [
      "/Users/swathisuhas/Documents/CISPA/OCSVM-SHAP/OCSVM_SHAP/src/utils/shapley_procedure/coalitions.py:19: RuntimeWarning: divide by zero encountered in log2\n",
      "  set_to_1 = np.floor(np.log2(rest)).astype(int)\n",
      "/Users/swathisuhas/Documents/CISPA/OCSVM-SHAP/OCSVM_SHAP/src/utils/shapley_procedure/coalitions.py:19: RuntimeWarning: invalid value encountered in cast\n",
      "  set_to_1 = np.floor(np.log2(rest)).astype(int)\n",
      "/Users/swathisuhas/Documents/CISPA/OCSVM-SHAP/OCSVM_SHAP/src/utils/shapley_procedure/coalitions.py:19: RuntimeWarning: invalid value encountered in log2\n",
      "  set_to_1 = np.floor(np.log2(rest)).astype(int)\n",
      "  0%|          | 0/63 [00:00<?, ?it/s]"
     ]
    },
    {
     "name": "stderr",
     "output_type": "stream",
     "text": [
      "100%|██████████| 63/63 [17:32<00:00, 16.70s/it]\n"
     ]
    }
   ],
   "source": [
    "ocsvm_shap.fit_ocsvmshap(X=x_data, num_coalitions=2**x_data.shape[1])"
   ]
  },
  {
   "cell_type": "markdown",
   "metadata": {},
   "source": [
    "Let us check that for every point in indices_feature_1 has a highest shapley value for artificial_feature_1"
   ]
  },
  {
   "cell_type": "code",
   "execution_count": 48,
   "metadata": {},
   "outputs": [],
   "source": [
    "from src.utils.visualisation.deterministic_values import summary_plot,bar_plot\n",
    "mean_stochastic_shapley_values = ocsvm_shap.return_deterministic_shapley_values()"
   ]
  },
  {
   "cell_type": "code",
   "execution_count": 49,
   "metadata": {},
   "outputs": [],
   "source": [
    "mean_stochastic_shapley_values = mean_stochastic_shapley_values.T"
   ]
  },
  {
   "cell_type": "code",
   "execution_count": 50,
   "metadata": {},
   "outputs": [
    {
     "data": {
      "text/plain": [
       "100.0"
      ]
     },
     "execution_count": 50,
     "metadata": {},
     "output_type": "execute_result"
    }
   ],
   "source": [
    "correct = 0\n",
    "wrong_indices = []\n",
    "\n",
    "for idx in common_indices_1:\n",
    "    row = mean_stochastic_shapley_values[idx]\n",
    "    max_index = np.argmax(np.abs(row), axis=0)\n",
    "    # print(max_index)\n",
    "    if max_index == 4:\n",
    "        correct = correct+1\n",
    "    else:\n",
    "        wrong_indices.append((idx, max_index))\n",
    "\n",
    "# The percentage of correct feature selected is\n",
    "percentage_1 = correct/len(common_indices_1) * 100\n",
    "percentage_1"
   ]
  },
  {
   "cell_type": "markdown",
   "metadata": {},
   "source": [
    "artificial_feature_1 has the highest shapley value for all these points"
   ]
  },
  {
   "cell_type": "code",
   "execution_count": 51,
   "metadata": {},
   "outputs": [
    {
     "data": {
      "text/plain": [
       "79"
      ]
     },
     "execution_count": 51,
     "metadata": {},
     "output_type": "execute_result"
    }
   ],
   "source": [
    "common_indices_2 = np.intersect1d(indices_feature_2, indices)\n",
    "len(common_indices_2)"
   ]
  },
  {
   "cell_type": "code",
   "execution_count": 52,
   "metadata": {},
   "outputs": [
    {
     "data": {
      "text/plain": [
       "100.0"
      ]
     },
     "execution_count": 52,
     "metadata": {},
     "output_type": "execute_result"
    }
   ],
   "source": [
    "correct = 0\n",
    "wrong_indices = []\n",
    "\n",
    "for idx in common_indices_2:\n",
    "    row = mean_stochastic_shapley_values[idx]\n",
    "    max_index = np.argmax(np.abs(row), axis=0)\n",
    "    # print(max_index)\n",
    "    if max_index == 5:\n",
    "        correct = correct+1\n",
    "    else:\n",
    "        wrong_indices.append((idx, max_index))\n",
    "\n",
    "# The percentage of correct feature selected is\n",
    "percentage_2 = correct/len(common_indices_2) * 100\n",
    "percentage_2"
   ]
  },
  {
   "cell_type": "markdown",
   "metadata": {},
   "source": [
    "Again all the points have highest shapley value for artificial_feature_2 feature"
   ]
  }
 ],
 "metadata": {
  "kernelspec": {
   "display_name": "base",
   "language": "python",
   "name": "python3"
  },
  "language_info": {
   "codemirror_mode": {
    "name": "ipython",
    "version": 3
   },
   "file_extension": ".py",
   "mimetype": "text/x-python",
   "name": "python",
   "nbconvert_exporter": "python",
   "pygments_lexer": "ipython3",
   "version": "3.12.1"
  }
 },
 "nbformat": 4,
 "nbformat_minor": 2
}
