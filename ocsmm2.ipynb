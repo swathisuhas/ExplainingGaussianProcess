{
 "cells": [
  {
   "cell_type": "code",
   "execution_count": 1,
   "metadata": {},
   "outputs": [],
   "source": [
    "from src.ocsmm.OneClassSMMClassifier import OneClassSMMClassifier\n",
    "import numpy as np\n",
    "from torch import FloatTensor\n",
    "import matplotlib.pyplot as plt\n",
    "import torch\n",
    "import pandas as pd"
   ]
  },
  {
   "cell_type": "code",
   "execution_count": 2,
   "metadata": {},
   "outputs": [],
   "source": [
    "toy_data = [\n",
    "    np.random.normal(loc=0, scale=1, size=(25, 2)),  # Normal groups\n",
    "    np.random.normal(loc=5, scale=1, size=(25, 2)),  # Normal groups\n",
    "    np.random.normal(loc=10, scale=1, size=(25, 2)),  # Outlier group\n",
    "    np.random.normal(loc=-10, scale=1, size=(25, 2))  # Outlier group\n",
    "]"
   ]
  },
  {
   "cell_type": "markdown",
   "metadata": {},
   "source": [
    "have a 2d gaussian distribution with 0 mean and I covariance matrix. \n",
    "add a 3rd feature whos value is 0 if normal and 5 if outlier."
   ]
  },
  {
   "cell_type": "code",
   "execution_count": 3,
   "metadata": {},
   "outputs": [],
   "source": [
    "np.random.seed(42)\n",
    "\n",
    "# Parameters\n",
    "num_groups = 20\n",
    "num_points_per_group = 25\n",
    "num_features = 3  # Two Gaussian features + one label\n",
    "num_normal = 18\n",
    "num_anomalous = 2\n",
    "\n",
    "# Generate data\n",
    "dataset = []\n",
    "for i in range(num_groups):\n",
    "    if i < num_normal:\n",
    "        label = np.random.choice([1, 2, 3])  \n",
    "    else:\n",
    "        label = np.random.choice([18, 19, 20]) \n",
    "    points = np.random.multivariate_normal(mean=[0, 0], cov=[[1, 0], [0, 1]], size=num_points_per_group)\n",
    "    feature_3 = np.full((num_points_per_group, 1), label)  # Feature 3 as a column\n",
    "    group_data = np.hstack([points, feature_3]) \n",
    "    dataset.append(group_data)\n",
    "\n",
    "# Convert dataset into a 3D NumPy array\n",
    "final_dataset = np.array(dataset)  "
   ]
  },
  {
   "cell_type": "code",
   "execution_count": 4,
   "metadata": {},
   "outputs": [
    {
     "data": {
      "text/plain": [
       "array([[[-5.50234489e-01,  5.15433072e-01,  3.00000000e+00],\n",
       "        [ 4.73860834e-01,  1.36845012e+00,  3.00000000e+00],\n",
       "        [-9.16826844e-01, -1.24147180e-01,  3.00000000e+00],\n",
       "        ...,\n",
       "        [ 7.85532124e-01,  2.65601009e+00,  3.00000000e+00],\n",
       "        [ 2.63486040e-01,  1.64177112e+00,  3.00000000e+00],\n",
       "        [ 4.60816300e-01,  8.59234716e-02,  3.00000000e+00]],\n",
       "\n",
       "       [[ 3.24083969e-01, -3.85082280e-01,  1.00000000e+00],\n",
       "        [-6.76922000e-01,  6.11676289e-01,  1.00000000e+00],\n",
       "        [ 1.03099952e+00,  9.31280119e-01,  1.00000000e+00],\n",
       "        ...,\n",
       "        [-3.92108153e-01, -1.46351495e+00,  1.00000000e+00],\n",
       "        [ 2.96120277e-01,  2.61055272e-01,  1.00000000e+00],\n",
       "        [ 5.11345664e-03, -2.34587133e-01,  1.00000000e+00]],\n",
       "\n",
       "       [[ 1.94511561e+00, -1.53336458e-01,  1.00000000e+00],\n",
       "        [-9.06987225e-01, -8.17354155e-01,  1.00000000e+00],\n",
       "        [-4.83122679e-01, -5.69828348e-01,  1.00000000e+00],\n",
       "        ...,\n",
       "        [ 4.81979139e-01,  9.26456359e-01,  1.00000000e+00],\n",
       "        [-8.37581392e-01,  6.77186066e-01,  1.00000000e+00],\n",
       "        [ 1.87231912e+00,  3.96373940e-01,  1.00000000e+00]],\n",
       "\n",
       "       ...,\n",
       "\n",
       "       [[-6.48551856e-01,  8.01857332e-01,  2.00000000e+00],\n",
       "        [ 2.74005785e-01,  5.03065228e-02,  2.00000000e+00],\n",
       "        [ 2.43495739e-01,  9.28097777e-01,  2.00000000e+00],\n",
       "        ...,\n",
       "        [ 1.51369475e-01,  8.62796986e-01,  2.00000000e+00],\n",
       "        [ 5.44667444e-01,  2.01688754e+00,  2.00000000e+00],\n",
       "        [ 4.09413418e-01,  6.37973270e-01,  2.00000000e+00]],\n",
       "\n",
       "       [[-3.78292884e-01,  5.46779354e-01,  2.00000000e+01],\n",
       "        [-2.66237532e-01, -2.68636058e-01,  2.00000000e+01],\n",
       "        [-1.16889627e+00, -7.42514351e-01,  2.00000000e+01],\n",
       "        ...,\n",
       "        [ 1.29865973e+00,  1.07679870e-01,  2.00000000e+01],\n",
       "        [ 8.34085719e-01, -4.94703369e-01,  2.00000000e+01],\n",
       "        [-7.23436814e-01,  7.31145529e-01,  2.00000000e+01]],\n",
       "\n",
       "       [[-2.22412778e-01, -1.14695863e+00,  2.00000000e+01],\n",
       "        [-1.14590300e-01,  6.33267502e-01,  2.00000000e+01],\n",
       "        [-1.22725978e+00,  1.66013695e+00,  2.00000000e+01],\n",
       "        ...,\n",
       "        [ 1.02352152e+00, -1.09362895e+00,  2.00000000e+01],\n",
       "        [ 3.72131391e-01,  4.78872164e-01,  2.00000000e+01],\n",
       "        [-2.41769771e-02, -5.71004720e-01,  2.00000000e+01]]])"
      ]
     },
     "execution_count": 4,
     "metadata": {},
     "output_type": "execute_result"
    }
   ],
   "source": [
    "final_dataset"
   ]
  },
  {
   "cell_type": "code",
   "execution_count": 5,
   "metadata": {},
   "outputs": [],
   "source": [
    "classifier = OneClassSMMClassifier(datasets=final_dataset, nu=0.1)\n",
    "decision, y_pred = classifier.fit()"
   ]
  },
  {
   "cell_type": "code",
   "execution_count": 6,
   "metadata": {},
   "outputs": [
    {
     "name": "stdout",
     "output_type": "stream",
     "text": [
      "Count of -1: 0\n",
      "Count of +1: 19\n"
     ]
    }
   ],
   "source": [
    "count_neg_1 = np.count_nonzero(y_pred == -1)\n",
    "count_pos_1 = np.count_nonzero(y_pred == 1)\n",
    "\n",
    "print(f\"Count of -1: {count_neg_1}\")\n",
    "print(f\"Count of +1: {count_pos_1}\")"
   ]
  },
  {
   "cell_type": "code",
   "execution_count": 7,
   "metadata": {},
   "outputs": [
    {
     "data": {
      "text/plain": [
       "array([1.79275449e+00, 1.57467930e-05, 1.49034558e+00, 2.11096118e+00,\n",
       "       4.23401967e-01, 1.46934646e+00, 3.41828102e+00, 4.60349117e-01,\n",
       "       7.77235813e+00, 3.13357678e-05, 5.60645808e+00, 2.35449438e-05,\n",
       "       5.30641773e+00, 1.49225132e-05, 4.29229313e-05, 3.10173758e+00,\n",
       "       2.26651888e+00, 0.00000000e+00, 1.07822620e-04, 1.08043882e-04])"
      ]
     },
     "execution_count": 7,
     "metadata": {},
     "output_type": "execute_result"
    }
   ],
   "source": [
    "decision"
   ]
  },
  {
   "cell_type": "code",
   "execution_count": 8,
   "metadata": {},
   "outputs": [],
   "source": [
    "# from src.ocsmm.ocsmm import OneClassSMM\n",
    "\n",
    "# ocsmm = OneClassSMM(C=0.1, gamma=0.1)\n",
    "# ocsmm.fit(final_dataset)\n",
    "# outlier_score_ocsmm = ocsmm.predict(final_dataset)"
   ]
  },
  {
   "cell_type": "code",
   "execution_count": null,
   "metadata": {},
   "outputs": [],
   "source": []
  }
 ],
 "metadata": {
  "kernelspec": {
   "display_name": "pytorch",
   "language": "python",
   "name": "python3"
  },
  "language_info": {
   "codemirror_mode": {
    "name": "ipython",
    "version": 3
   },
   "file_extension": ".py",
   "mimetype": "text/x-python",
   "name": "python",
   "nbconvert_exporter": "python",
   "pygments_lexer": "ipython3",
   "version": "3.11.5"
  }
 },
 "nbformat": 4,
 "nbformat_minor": 2
}
